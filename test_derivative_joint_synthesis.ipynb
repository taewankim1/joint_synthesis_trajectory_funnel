{
 "cells": [
  {
   "cell_type": "code",
   "execution_count": null,
   "metadata": {},
   "outputs": [],
   "source": [
    "include(\"./trajopt/utils.jl\")\n",
    "include(\"./trajopt/dynamics.jl\")\n",
    "include(\"./jointopt/joint_dynamics.jl\")\n",
    "include(\"./funlopt/funl_utils.jl\")\n",
    "include(\"./funlopt/funl_constraint.jl\")\n",
    "include(\"./trajopt/scaling.jl\")"
   ]
  },
  {
   "cell_type": "code",
   "execution_count": null,
   "metadata": {},
   "outputs": [],
   "source": [
    "# load nominal trajectory\n",
    "using JLD2, FileIO\n",
    "@load \"./data/xuQYZ_unicycle_0328\" my_dict\n",
    "xnom = my_dict[\"x\"]\n",
    "unom = my_dict[\"u\"]\n",
    "tnom = my_dict[\"t\"]\n",
    "Qnom = my_dict[\"Q\"]\n",
    "Ynom = my_dict[\"Y\"]\n",
    "Znom = my_dict[\"Z\"]\n",
    "N = size(xnom,2) - 1\n",
    "dtnom = zeros(N)\n",
    "for i in 1:N\n",
    "    dtnom[i] = tnom[i+1]-tnom[i]\n",
    "end"
   ]
  },
  {
   "cell_type": "code",
   "execution_count": null,
   "metadata": {},
   "outputs": [],
   "source": [
    "ix = 3\n",
    "iu = 2\n",
    "iϕ = 2\n",
    "iv = 2\n",
    "iψ = iϕ*iv\n",
    "iμ = iψ\n",
    "@assert size(xnom,2) - 1 == N"
   ]
  },
  {
   "cell_type": "code",
   "execution_count": null,
   "metadata": {},
   "outputs": [],
   "source": [
    "Go = [1 2;1 2;0 0]\n",
    "G = kron(Go,ones(1,iv))\n",
    "Cv = [0 0 1;0 0 0] \n",
    "Dvu = [0 0;1 0]"
   ]
  },
  {
   "cell_type": "code",
   "execution_count": null,
   "metadata": {},
   "outputs": [],
   "source": [
    "dynamics = Unicycle()\n",
    "alpha = 0.7\n",
    "DLMI = LinearQY(alpha,ix,iu)"
   ]
  },
  {
   "cell_type": "code",
   "execution_count": null,
   "metadata": {},
   "outputs": [],
   "source": [
    "idx = 4\n",
    "Aq,Bq,Sq,Ax,Bu = diff(DLMI,dynamics,\n",
    "    vec(Qnom[:,:,idx]),vec(Ynom[:,:,idx]),vec(Znom[:,:,idx]),\n",
    "    xnom[:,idx],unom[:,idx])"
   ]
  },
  {
   "cell_type": "code",
   "execution_count": null,
   "metadata": {},
   "outputs": [],
   "source": [
    "eps_x = Diagonal{Float64}(I, ix)\n",
    "eps_u = Diagonal{Float64}(I, iu)\n",
    "Fx = zeros(iq,ix)\n",
    "Fu = zeros(iq,iu)\n",
    "h = 2^(-18)\n",
    "for i in 1:ix\n",
    "    Fx[:,i] .= (\n",
    "    forward(DLMI,dynamics,\n",
    "    vec(Qnom[:,:,idx]),vec(Ynom[:,:,idx]),vec(Znom[:,:,idx]),\n",
    "    xnom[:,idx]+h*eps_x[:,i],unom[:,idx]) -\n",
    "    forward(DLMI,dynamics,\n",
    "    vec(Qnom[:,:,idx]),vec(Ynom[:,:,idx]),vec(Znom[:,:,idx]),\n",
    "    xnom[:,idx]-h*eps_x[:,i],unom[:,idx])\n",
    "    ) / (2*h)\n",
    "end\n",
    "for i in 1:iu\n",
    "    Fu[:,i] .= (\n",
    "    forward(DLMI,dynamics,\n",
    "    vec(Qnom[:,:,idx]),vec(Ynom[:,:,idx]),vec(Znom[:,:,idx]),\n",
    "    xnom[:,idx],unom[:,idx]+h*eps_u[:,i]) -\n",
    "    forward(DLMI,dynamics,\n",
    "    vec(Qnom[:,:,idx]),vec(Ynom[:,:,idx]),vec(Znom[:,:,idx]),\n",
    "    xnom[:,idx],unom[:,idx]-h*eps_u[:,i])\n",
    "    ) / (2*h)\n",
    "end\n",
    "# for i in 1:iu\n",
    "#     Fu[:,i] = (forward(model,x,u+h*eps_u[:,i]) - forward(model,x,u-h*eps_u[:,i])) / (2*h)\n",
    "# end"
   ]
  },
  {
   "cell_type": "code",
   "execution_count": null,
   "metadata": {},
   "outputs": [],
   "source": [
    "sum(abs.(Ax - Fx))"
   ]
  },
  {
   "cell_type": "code",
   "execution_count": null,
   "metadata": {},
   "outputs": [],
   "source": [
    "sum(abs.(Bu-Fu))"
   ]
  },
  {
   "cell_type": "code",
   "execution_count": null,
   "metadata": {},
   "outputs": [],
   "source": [
    "eps_x = Diagonal{Float64}(I, iq)\n",
    "eps_u = Diagonal{Float64}(I, iy)\n",
    "Fq = zeros(iq,iq)\n",
    "Fy = zeros(iq,iy)\n",
    "h = 2^(-18)\n",
    "for i in 1:iq\n",
    "    Fq[:,i] .= (\n",
    "    forward(DLMI,dynamics,\n",
    "    vec(Qnom[:,:,idx])+h*eps_x[:,i],vec(Ynom[:,:,idx]),vec(Znom[:,:,idx]),\n",
    "    xnom[:,idx],unom[:,idx]) -\n",
    "    forward(DLMI,dynamics,\n",
    "    vec(Qnom[:,:,idx])-h*eps_x[:,i],vec(Ynom[:,:,idx]),vec(Znom[:,:,idx]),\n",
    "    xnom[:,idx],unom[:,idx])\n",
    "    ) / (2*h)\n",
    "end\n",
    "for i in 1:iy\n",
    "    Fy[:,i] .= (\n",
    "    forward(DLMI,dynamics,\n",
    "    vec(Qnom[:,:,idx]),vec(Ynom[:,:,idx])+h*eps_u[:,i],vec(Znom[:,:,idx]),\n",
    "    xnom[:,idx],unom[:,idx]) -\n",
    "    forward(DLMI,dynamics,\n",
    "    vec(Qnom[:,:,idx]),vec(Ynom[:,:,idx])-h*eps_u[:,i],vec(Znom[:,:,idx]),\n",
    "    xnom[:,idx],unom[:,idx])\n",
    "    ) / (2*h)\n",
    "end"
   ]
  },
  {
   "cell_type": "code",
   "execution_count": null,
   "metadata": {},
   "outputs": [],
   "source": [
    "sum(abs.(Aq - Fq))"
   ]
  },
  {
   "cell_type": "code",
   "execution_count": null,
   "metadata": {},
   "outputs": [],
   "source": [
    "sum(abs.(Bq - Fy))"
   ]
  },
  {
   "cell_type": "code",
   "execution_count": null,
   "metadata": {},
   "outputs": [],
   "source": [
    "a = 1:10\n",
    "a[end]"
   ]
  },
  {
   "cell_type": "code",
   "execution_count": null,
   "metadata": {},
   "outputs": [],
   "source": [
    "include(\"./jointopt/joint_dynamics.jl\")"
   ]
  },
  {
   "cell_type": "code",
   "execution_count": null,
   "metadata": {},
   "outputs": [],
   "source": [
    "A,Bm,Bp,Aq,Ax,Bum,Bup,Bym,Byp,Bzm,Bzp,zf,zF,x_prop,q_prop = discretize_foh(DLMI,dynamics,\n",
    "    Qnom[:,:,1:N],Ynom,Znom,xnom[:,1:N],unom,dtnom)"
   ]
  },
  {
   "cell_type": "code",
   "execution_count": null,
   "metadata": {},
   "outputs": [],
   "source": [
    "print_jl(Qnom)"
   ]
  },
  {
   "cell_type": "code",
   "execution_count": null,
   "metadata": {},
   "outputs": [],
   "source": []
  },
  {
   "cell_type": "code",
   "execution_count": null,
   "metadata": {},
   "outputs": [],
   "source": []
  }
 ],
 "metadata": {
  "kernelspec": {
   "display_name": "Julia 1.9.4",
   "language": "julia",
   "name": "julia-1.9"
  },
  "language_info": {
   "file_extension": ".jl",
   "mimetype": "application/julia",
   "name": "julia",
   "version": "1.9.4"
  }
 },
 "nbformat": 4,
 "nbformat_minor": 2
}
