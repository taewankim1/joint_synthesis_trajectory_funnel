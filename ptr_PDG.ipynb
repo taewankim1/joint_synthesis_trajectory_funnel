{
 "cells": [
  {
   "cell_type": "code",
   "execution_count": 1,
   "metadata": {},
   "outputs": [],
   "source": [
    "include(\"./trajopt/utils.jl\")\n",
    "include(\"./trajopt/dynamics.jl\")\n",
    "include(\"./trajopt/constraint.jl\")\n",
    "include(\"./trajopt/costfunction.jl\")\n",
    "include(\"./trajopt/scaling.jl\")\n",
    "include(\"./trajopt/scp.jl\")\n",
    "include(\"./trajopt/discretize.jl\")"
   ]
  },
  {
   "cell_type": "code",
   "execution_count": null,
   "metadata": {},
   "outputs": [],
   "source": [
    "ix = 13\n",
    "iu = 6\n",
    "N = 20\n",
    "dynamics = Rocket()"
   ]
  },
  {
   "cell_type": "code",
   "execution_count": null,
   "metadata": {},
   "outputs": [],
   "source": [
    "pdg_const = PDG()\n",
    "list_const = [pdg_const];"
   ]
  },
  {
   "cell_type": "code",
   "execution_count": null,
   "metadata": {},
   "outputs": [],
   "source": [
    "xi = [1500, 3000,600,3000, 0,0,-30, deg2rad(0),deg2rad(0),0, 0,0,0]\n",
    "xf = [750,  0,0,0,       0,0,-2, 0,0,0, 0,0,0];\n",
    "@assert length(xi) == ix\n",
    "@assert length(xf) == ix"
   ]
  },
  {
   "cell_type": "code",
   "execution_count": null,
   "metadata": {},
   "outputs": [],
   "source": [
    "x0 = zeros(ix,N+1);\n",
    "u0 = 0.0*ones(iu,N+1);\n",
    "u0[3,:] .= 1.625 * 1000\n",
    "tf0 = 130.0;\n",
    "dt0 = tf0/N*ones(N);\n",
    "for i = 1:N+1\n",
    "    x0[:,i] = (N-i+1)/N*xi+(i-1)/N*xf;\n",
    "end\n",
    "print_jl(x0)\n",
    "print_jl(u0)"
   ]
  },
  {
   "cell_type": "code",
   "execution_count": null,
   "metadata": {},
   "outputs": [],
   "source": [
    "xmin = [0, 0,0,0, 0,0,0, 0,0,0, 0,0,0];\n",
    "xmax = [1500, 3000,3000,3000, 90,90,90, deg2rad(90),deg2rad(90),deg2rad(90), deg2rad(5),deg2rad(5),deg2rad(5)];\n",
    "umin = [0,0,0, 0,0,0];\n",
    "umax = [3000,3000,3000, 50,50,50];\n",
    "min_dt = 100 / N;\n",
    "max_dt = 150 / N;\n",
    "scaler = Scaling(xmin, xmax, umin, umax, tf0, min_dt,max_dt)\n",
    "@assert max_dt * N >= tf0 "
   ]
  },
  {
   "cell_type": "code",
   "execution_count": null,
   "metadata": {},
   "outputs": [],
   "source": [
    "max_iter = 10;\n",
    "w_tf = 0.0;\n",
    "w_c = 1e-3;\n",
    "w_rate = 0.0;\n",
    "w_param = 0.0;\n",
    "w_vc = 1e2;\n",
    "w_tr::Float64 = 1e-1;\n",
    "tol_vc = 1e-6;\n",
    "tol_tr = 1e-3;\n",
    "tol_dyn = 1e-1;\n",
    "tr_norm = \"quad\";\n",
    "verbosity = true;"
   ]
  },
  {
   "cell_type": "code",
   "execution_count": null,
   "metadata": {},
   "outputs": [],
   "source": [
    "ptr = PTR(N,tf0,max_iter,dynamics,list_const,scaler,\n",
    "    w_tf,w_c,w_rate,w_param,w_vc,w_tr,\n",
    "    tol_vc,tol_tr,tol_dyn,\n",
    "    tr_norm,verbosity)"
   ]
  },
  {
   "cell_type": "code",
   "execution_count": null,
   "metadata": {},
   "outputs": [],
   "source": [
    "import Gurobi\n",
    "run(ptr,x0,u0,dt0,xi,xf,Gurobi)"
   ]
  },
  {
   "cell_type": "code",
   "execution_count": null,
   "metadata": {},
   "outputs": [],
   "source": [
    "Fnorm = []\n",
    "Tnorm = []\n",
    "vnorm = []\n",
    "wnorm = []\n",
    "gamma = []\n",
    "delta = []\n",
    "for i = 1:ptr.N+1\n",
    "    append!(Fnorm,norm(ptr.solution.u[1:3,i]))\n",
    "    append!(Tnorm,norm(ptr.solution.u[4:6,i],Inf))\n",
    "    append!(vnorm,norm(ptr.solution.x[5:7,i]))\n",
    "    append!(wnorm,norm(ptr.solution.x[11:13,i]))\n",
    "    append!(gamma,atan(ptr.solution.x[4,i]/norm(ptr.solution.x[2:3,i])))\n",
    "    append!(delta,acos(ptr.solution.u[3,i]/norm(ptr.solution.u[1:3,i])))\n",
    "end\n",
    "zquiver = zeros(3, ptr.N+1)\n",
    "Fquiver = zeros(3, ptr.N+1)\n",
    "for i = 1:ptr.N+1\n",
    "    phi = ptr.solution.x[8,i]\n",
    "    theta = ptr.solution.x[9,i]\n",
    "    psi = ptr.solution.x[10,i]\n",
    "    C_B_I = [cos(psi)*cos(theta) sin(psi)*cos(theta) -sin(theta);\n",
    "    -sin(psi)*cos(phi)+cos(psi)*sin(theta)*sin(phi) cos(psi)*cos(phi)+sin(psi)*sin(theta)*sin(phi) cos(theta)*sin(phi);\n",
    "    sin(psi)*sin(phi) + cos(psi)*sin(theta)*cos(phi) -cos(psi)*sin(phi)+sin(psi)*sin(theta)*cos(phi) cos(theta)*cos(phi)]\n",
    "    zquiver[:,i] = C_B_I' * [0,0,1]\n",
    "    Fquiver[:,i] = C_B_I' * ptr.solution.u[1:3,i]\n",
    "end"
   ]
  },
  {
   "cell_type": "code",
   "execution_count": null,
   "metadata": {},
   "outputs": [],
   "source": [
    "plt.figure(figsize=(8,8))\n",
    "ax = plt.axes(projection=\"3d\")\n",
    "ax.plot3D(ptr.solution.x[2, :], ptr.solution.x[3, :], ptr.solution.x[4, :],\"o\",color=\"tab:orange\")\n",
    "ax.plot3D(ptr.solution.xprop[2, :], ptr.solution.xprop[3, :], ptr.solution.xprop[4, :],\"--\",color=\"tab:orange\", label=\"trajectory\")\n",
    "ax.quiver(ptr.solution.x[2, :], ptr.solution.x[3,:], ptr.solution.x[4, :], zquiver[1, :], zquiver[2, :], zquiver[3, :], length=200, arrow_length_ratio=0, color=\"blue\", label=\"rocket\")\n",
    "ax.quiver(ptr.solution.x[2, :], ptr.solution.x[3,:], ptr.solution.x[4, :], -Fquiver[1, :], -Fquiver[2, :], -Fquiver[3, :], length=0.05, arrow_length_ratio=0, color=\"r\", label=\"thrust\")\n",
    "# ax.quiver(p.xref[1, :], p.xref[2, :], p.xref[3, :], -ui[1, :], -ui[2, :], -ui[3, :], length=0.3, arrow_length_ratio=0, color=\"r\", label=\"Thrust Vector\")\n",
    "ax.set_xlabel(\"Downrange\")\n",
    "ax.set_ylabel(\"Crossrange\")\n",
    "ax.set_zlabel(\"Altitude\")\n",
    "ax.set_title(\"PDG Trajectory\")\n",
    "ax.set_aspect(\"equal\")\n",
    "ax.legend()\n",
    "ax.view_init(20, -60) # 20, -60\n",
    "gcf()"
   ]
  },
  {
   "cell_type": "code",
   "execution_count": null,
   "metadata": {},
   "outputs": [],
   "source": [
    "plt.figure(figsize=(10,20))\n",
    "ax = plt.subplot(10,1,1)\n",
    "ax.plot(ptr.solution.t,Fnorm,\"o-\")\n",
    "ax.plot(ptr.solution.t,ptr.solution.t*0 .+ ptr.constraint[1].Fmax,\"--\",color=\"tab:red\",label=\"limit\")\n",
    "ax.plot(ptr.solution.t,ptr.solution.t*0 .+ ptr.constraint[1].Fmin,\"--\",color=\"tab:red\")\n",
    "ax.set_ylabel(\"thrust\")\n",
    "ax.legend()\n",
    "ax = plt.subplot(10,1,2)\n",
    "ax.plot(ptr.solution.t,Tnorm,\"o-\")\n",
    "# ax.plot(ptr.solution.t,ptr.solution.t*0 .+ ptr.constraint[1].tau_max,\"--\",color=\"tab:red\",label=\"limit\")\n",
    "ax.set_ylabel(\"torque\")\n",
    "ax.legend()\n",
    "ax = plt.subplot(10,1,3)\n",
    "ax.plot(ptr.solution.t,vnorm,\"o-\")\n",
    "ax.plot(ptr.solution.t,ptr.solution.t*0 .+ ptr.constraint[1].vmax,\"--\",color=\"tab:red\",label=\"limit\")\n",
    "ax.set_ylabel(\"velocity\")\n",
    "ax.legend()\n",
    "ax = plt.subplot(10,1,4)\n",
    "ax.plot(ptr.solution.t,wnorm,\"o-\")\n",
    "ax.plot(ptr.solution.t,ptr.solution.t*0 .+ ptr.constraint[1].wmax,\"--\",color=\"tab:red\",label=\"limit\")\n",
    "ax.set_ylabel(\"angular velocity\")\n",
    "ax.legend()\n",
    "ax = plt.subplot(10,1,5)\n",
    "ax.plot(ptr.solution.t,ptr.solution.x[8,:],\"o-\")\n",
    "ax.plot(ptr.solution.t,ptr.solution.t*0 .+ ptr.constraint[1].theta_max,\"--\",color=\"tab:red\",label=\"limit\")\n",
    "ax.plot(ptr.solution.t,ptr.solution.t*0 .- ptr.constraint[1].theta_max,\"--\",color=\"tab:red\")\n",
    "ax.set_ylabel(\"roll\")\n",
    "ax.legend()\n",
    "ax = plt.subplot(10,1,6)\n",
    "ax.plot(ptr.solution.t,ptr.solution.x[9,:],\"o-\")\n",
    "ax.plot(ptr.solution.t,ptr.solution.t*0 .+ ptr.constraint[1].theta_max,\"--\",color=\"tab:red\",label=\"limit\")\n",
    "ax.plot(ptr.solution.t,ptr.solution.t*0 .- ptr.constraint[1].theta_max,\"--\",color=\"tab:red\")\n",
    "ax.set_ylabel(\"pitch\")\n",
    "ax.legend()\n",
    "ax = plt.subplot(10,1,7)\n",
    "ax.plot(ptr.solution.t,rad2deg.(gamma),\"o-\")\n",
    "ax.plot(ptr.solution.t,ptr.solution.t*0 .+ rad2deg(ptr.constraint[1].gamma_s),\"--\",color=\"tab:red\",label=\"limit\")\n",
    "ax.set_ylabel(\"glide slope angle (deg)\")\n",
    "ax.legend()\n",
    "ax = plt.subplot(10,1,8)\n",
    "ax.plot(ptr.solution.t,rad2deg.(delta),\"o-\")\n",
    "ax.plot(ptr.solution.t,ptr.solution.t*0 .+ rad2deg(ptr.constraint[1].delta_max),\"--\",color=\"tab:red\",label=\"limit\")\n",
    "ax.set_ylabel(\"gimbal angle (deg)\")\n",
    "ax.legend()\n",
    "gcf()"
   ]
  },
  {
   "cell_type": "code",
   "execution_count": null,
   "metadata": {},
   "outputs": [],
   "source": []
  }
 ],
 "metadata": {
  "kernelspec": {
   "display_name": "Julia 1.9.4",
   "language": "julia",
   "name": "julia-1.9"
  },
  "language_info": {
   "file_extension": ".jl",
   "mimetype": "application/julia",
   "name": "julia",
   "version": "1.9.4"
  }
 },
 "nbformat": 4,
 "nbformat_minor": 2
}
