{
 "cells": [
  {
   "cell_type": "code",
   "execution_count": 1,
   "metadata": {},
   "outputs": [
    {
     "data": {
      "text/plain": [
       "compute_scaling (generic function with 1 method)"
      ]
     },
     "metadata": {},
     "output_type": "display_data"
    }
   ],
   "source": [
    "include(\"./trajopt/utils.jl\")\n",
    "include(\"./trajopt/dynamics.jl\")\n",
    "include(\"./funlopt/funl_dynamics.jl\")\n",
    "include(\"./funlopt/funl_utils.jl\")\n",
    "include(\"./funlopt/funl_constraint.jl\")\n",
    "include(\"./trajopt/scaling.jl\")"
   ]
  },
  {
   "cell_type": "code",
   "execution_count": 2,
   "metadata": {},
   "outputs": [],
   "source": [
    "# load nominal trajectory\n",
    "using JLD2, FileIO\n",
    "@load \"./data/nominal_traj_unicycle_0324\" my_dict\n",
    "xnom = my_dict[\"x\"]\n",
    "unom = my_dict[\"u\"]\n",
    "tnom = my_dict[\"t\"];\n",
    "N = size(xnom,2) - 1\n",
    "dtnom = zeros(N)\n",
    "for i in 1:N\n",
    "    dtnom[i] = tnom[i+1]-tnom[i]\n",
    "end"
   ]
  },
  {
   "cell_type": "code",
   "execution_count": 3,
   "metadata": {},
   "outputs": [],
   "source": [
    "ix = 3\n",
    "iu = 2\n",
    "iϕ = 2\n",
    "iv = 2\n",
    "iψ = iϕ*iv\n",
    "iμ = iψ\n",
    "@assert size(xnom,2) - 1 == N"
   ]
  },
  {
   "cell_type": "code",
   "execution_count": 4,
   "metadata": {},
   "outputs": [
    {
     "data": {
      "text/plain": [
       "2×2 Matrix{Int64}:\n",
       " 0  0\n",
       " 1  0"
      ]
     },
     "metadata": {},
     "output_type": "display_data"
    }
   ],
   "source": [
    "Go = [1 2;1 2;0 0]\n",
    "G = kron(Go,ones(1,iv))\n",
    "Cv = [0 0 1;0 0 0] \n",
    "Dvu = [0 0;1 0]"
   ]
  },
  {
   "cell_type": "code",
   "execution_count": 5,
   "metadata": {},
   "outputs": [
    {
     "data": {
      "text/plain": [
       "LinearDLMI(0.7, 3, 2, 9, 6, [1 0 … 0 0; 0 0 … 0 0; … ; 0 0 … 0 0; 0 0 … 0 1], [1 0 … 0 0; 0 0 … 0 0; … ; 0 0 … 0 0; 0 0 … 0 1])"
      ]
     },
     "metadata": {},
     "output_type": "display_data"
    }
   ],
   "source": [
    "dynamics = Unicycle()\n",
    "alpha = 0.7\n",
    "DLMI = LinearDLMI(alpha,ix,iu)"
   ]
  },
  {
   "cell_type": "code",
   "execution_count": 6,
   "metadata": {},
   "outputs": [
    {
     "data": {
      "text/plain": [
       "6-element Vector{FunnelConstraint}:\n",
       " InputConstraint([1, 0], 2.0)\n",
       " InputConstraint([-1, 0], -0.0)\n",
       " InputConstraint([0, 1], 2.0)\n",
       " InputConstraint([0, -1], 2.0)\n",
       " ObstacleAvoidance([2.0 0.0; 0.0 2.0], [1, 2])\n",
       " ObstacleAvoidance([2.0 0.0; 0.0 2.0], [4, 3])"
      ]
     },
     "metadata": {},
     "output_type": "display_data"
    }
   ],
   "source": [
    "function get_H_obs(rx,ry)\n",
    "    return diagm([1/rx,1/ry])\n",
    "end\n",
    "c_list = []\n",
    "H_list = []\n",
    "c1 = [1,2]\n",
    "H1 = get_H_obs(0.5,0.5)\n",
    "push!(c_list,c1)\n",
    "push!(H_list,H1)\n",
    "c2 = [4,3]\n",
    "H2 = get_H_obs(0.5,0.5)\n",
    "push!(c_list,c2)\n",
    "push!(H_list,H2)\n",
    "\n",
    "vmax = 2.0\n",
    "vmin = 0.0\n",
    "wmax = 2.0\n",
    "wmin = -2.0\n",
    "list_const = [InputConstraint([1;0],vmax),\n",
    "    InputConstraint([-1;0],-vmin),\n",
    "    InputConstraint([0; 1],wmax),\n",
    "    InputConstraint([0; -1],-wmin),\n",
    "    ObstacleAvoidance(H_list[1],c_list[1]),\n",
    "    ObstacleAvoidance(H_list[2],c_list[2])\n",
    "    ]"
   ]
  },
  {
   "cell_type": "code",
   "execution_count": 7,
   "metadata": {},
   "outputs": [
    {
     "data": {
      "text/plain": [
       "3×3 Matrix{Float64}:\n",
       " 0.08  0.0   0.0\n",
       " 0.0   0.08  0.0\n",
       " 0.0   0.0   0.06"
      ]
     },
     "metadata": {},
     "output_type": "display_data"
    }
   ],
   "source": [
    "Qnom = zeros(ix,ix,N+1)\n",
    "Ynom = zeros(iu,ix,N+1)\n",
    "Znom = zeros(ix,ix,N+1);\n",
    "Qini = diagm([0.08,0.08,0.06])\n",
    "Qf = diagm([0.08,0.08,0.06])"
   ]
  },
  {
   "cell_type": "code",
   "execution_count": 8,
   "metadata": {},
   "outputs": [
    {
     "data": {
      "text/plain": [
       "Scaling([5.0 0.0 0.0; 0.0 5.0 0.0; 0.0 0.0 3.141592653589793], [0.2 0.0 0.0; 0.0 0.2 0.0; 0.0 0.0 0.3183098861837907], [0.0, 0.0, 0.0], [2.0 0.0; 0.0 2.0], [0.5 0.0; 0.0 0.5], [0.0, 0.0], 5.0, 0.0, 0.0)"
      ]
     },
     "metadata": {},
     "output_type": "display_data"
    }
   ],
   "source": [
    "xmin = [0;0;0];\n",
    "xmax = [5;5;pi];\n",
    "umin = [0;0];\n",
    "umax = [vmax;wmax];\n",
    "scaler = Scaling(xmin, xmax, umin, umax, tnom[end],0,0)"
   ]
  },
  {
   "cell_type": "code",
   "execution_count": 24,
   "metadata": {},
   "outputs": [
    {
     "data": {
      "text/plain": [
       "run (generic function with 1 method)"
      ]
     },
     "metadata": {},
     "output_type": "display_data"
    }
   ],
   "source": [
    "include(\"./funlopt/funl_synthesis.jl\")"
   ]
  },
  {
   "cell_type": "code",
   "execution_count": 25,
   "metadata": {},
   "outputs": [],
   "source": [
    "max_iter = 1;\n",
    "w_funl = 1.0;\n",
    "w_vc = 1e2;\n",
    "w_tr::Float64 = 0.01\n",
    "tol_vc = 1e-6;\n",
    "tol_tr = 1e-4;\n",
    "tol_dyn = 1e-1;\n",
    "verbosity = true;"
   ]
  },
  {
   "cell_type": "code",
   "execution_count": 26,
   "metadata": {},
   "outputs": [
    {
     "data": {
      "text/plain": [
       "FunnelSynthesis(Unicycle(3, 2), LinearDLMI(0.7, 3, 2, 9, 6, [1 0 … 0 0; 0 0 … 0 0; … ; 0 0 … 0 0; 0 0 … 0 1], [1 0 … 0 0; 0 0 … 0 0; … ; 0 0 … 0 0; 0 0 … 0 1]), FunnelConstraint[InputConstraint([1, 0], 2.0), InputConstraint([-1, 0], -0.0), InputConstraint([0, 1], 2.0), InputConstraint([0, -1], 2.0), ObstacleAvoidance([2.0 0.0; 0.0 2.0], [1, 2]), ObstacleAvoidance([2.0 0.0; 0.0 2.0], [4, 3])], Scaling([5.0 0.0 0.0; 0.0 5.0 0.0; 0.0 0.0 3.141592653589793], [0.2 0.0 0.0; 0.0 0.2 0.0; 0.0 0.0 0.3183098861837907], [0.0, 0.0, 0.0], [2.0 0.0; 0.0 2.0], [0.5 0.0; 0.0 0.5], [0.0, 0.0], 5.0, 0.0, 0.0), FunnelSolution([0.0 0.0 0.0; 0.0 0.0 0.0; 0.0 0.0 0.0;;; 0.0 0.0 0.0; 0.0 0.0 0.0; 0.0 0.0 0.0;;; 0.0 0.0 0.0; 0.0 0.0 0.0; 0.0 0.0 0.0;;; … ;;; 0.0 0.0 0.0; 0.0 0.0 0.0; 0.0 0.0 0.0;;; 0.0 0.0 0.0; 0.0 0.0 0.0; 0.0 0.0 0.0;;; 0.0 0.0 0.0; 0.0 0.0 0.0; 0.0 0.0 0.0], [0.0 0.0 0.0; 0.0 0.0 0.0;;; 0.0 0.0 0.0; 0.0 0.0 0.0;;; 0.0 0.0 0.0; 0.0 0.0 0.0;;; … ;;; 0.0 0.0 0.0; 0.0 0.0 0.0;;; 0.0 0.0 0.0; 0.0 0.0 0.0;;; 0.0 0.0 0.0; 0.0 0.0 0.0], [0.0 0.0 0.0; 0.0 0.0 0.0; 0.0 0.0 0.0;;; 0.0 0.0 0.0; 0.0 0.0 0.0; 0.0 0.0 0.0;;; 0.0 0.0 0.0; 0.0 0.0 0.0; 0.0 0.0 0.0;;; … ;;; 0.0 0.0 0.0; 0.0 0.0 0.0; 0.0 0.0 0.0;;; 0.0 0.0 0.0; 0.0 0.0 0.0; 0.0 0.0 0.0;;; 0.0 0.0 0.0; 0.0 0.0 0.0; 0.0 0.0 0.0], [0.0 0.0 … 0.0 0.0; 0.0 0.0 … 0.0 0.0; … ; 0.0 0.0 … 0.0 0.0; 0.0 0.0 … 0.0 0.0;;; 0.0 0.0 … 0.0 0.0; 0.0 0.0 … 0.0 0.0; … ; 0.0 0.0 … 0.0 0.0; 0.0 0.0 … 0.0 0.0;;; 0.0 0.0 … 0.0 0.0; 0.0 0.0 … 0.0 0.0; … ; 0.0 0.0 … 0.0 0.0; 0.0 0.0 … 0.0 0.0;;; … ;;; 0.0 0.0 … 0.0 0.0; 0.0 0.0 … 0.0 0.0; … ; 0.0 0.0 … 0.0 0.0; 0.0 0.0 … 0.0 0.0;;; 0.0 0.0 … 0.0 0.0; 0.0 0.0 … 0.0 0.0; … ; 0.0 0.0 … 0.0 0.0; 0.0 0.0 … 0.0 0.0;;; 0.0 0.0 … 0.0 0.0; 0.0 0.0 … 0.0 0.0; … ; 0.0 0.0 … 0.0 0.0; 0.0 0.0 … 0.0 0.0], [0.0 0.0 … 0.0 0.0; 0.0 0.0 … 0.0 0.0; … ; 0.0 0.0 … 0.0 0.0; 0.0 0.0 … 0.0 0.0;;; 0.0 0.0 … 0.0 0.0; 0.0 0.0 … 0.0 0.0; … ; 0.0 0.0 … 0.0 0.0; 0.0 0.0 … 0.0 0.0;;; 0.0 0.0 … 0.0 0.0; 0.0 0.0 … 0.0 0.0; … ; 0.0 0.0 … 0.0 0.0; 0.0 0.0 … 0.0 0.0;;; … ;;; 0.0 0.0 … 0.0 0.0; 0.0 0.0 … 0.0 0.0; … ; 0.0 0.0 … 0.0 0.0; 0.0 0.0 … 0.0 0.0;;; 0.0 0.0 … 0.0 0.0; 0.0 0.0 … 0.0 0.0; … ; 0.0 0.0 … 0.0 0.0; 0.0 0.0 … 0.0 0.0;;; 0.0 0.0 … 0.0 0.0; 0.0 0.0 … 0.0 0.0; … ; 0.0 0.0 … 0.0 0.0; 0.0 0.0 … 0.0 0.0], [0.0 0.0 … 0.0 0.0; 0.0 0.0 … 0.0 0.0; … ; 0.0 0.0 … 0.0 0.0; 0.0 0.0 … 0.0 0.0;;; 0.0 0.0 … 0.0 0.0; 0.0 0.0 … 0.0 0.0; … ; 0.0 0.0 … 0.0 0.0; 0.0 0.0 … 0.0 0.0;;; 0.0 0.0 … 0.0 0.0; 0.0 0.0 … 0.0 0.0; … ; 0.0 0.0 … 0.0 0.0; 0.0 0.0 … 0.0 0.0;;; … ;;; 0.0 0.0 … 0.0 0.0; 0.0 0.0 … 0.0 0.0; … ; 0.0 0.0 … 0.0 0.0; 0.0 0.0 … 0.0 0.0;;; 0.0 0.0 … 0.0 0.0; 0.0 0.0 … 0.0 0.0; … ; 0.0 0.0 … 0.0 0.0; 0.0 0.0 … 0.0 0.0;;; 0.0 0.0 … 0.0 0.0; 0.0 0.0 … 0.0 0.0; … ; 0.0 0.0 … 0.0 0.0; 0.0 0.0 … 0.0 0.0], [0.0 0.0 … 0.0 0.0; 0.0 0.0 … 0.0 0.0; … ; 0.0 0.0 … 0.0 0.0; 0.0 0.0 … 0.0 0.0;;; 0.0 0.0 … 0.0 0.0; 0.0 0.0 … 0.0 0.0; … ; 0.0 0.0 … 0.0 0.0; 0.0 0.0 … 0.0 0.0;;; 0.0 0.0 … 0.0 0.0; 0.0 0.0 … 0.0 0.0; … ; 0.0 0.0 … 0.0 0.0; 0.0 0.0 … 0.0 0.0;;; … ;;; 0.0 0.0 … 0.0 0.0; 0.0 0.0 … 0.0 0.0; … ; 0.0 0.0 … 0.0 0.0; 0.0 0.0 … 0.0 0.0;;; 0.0 0.0 … 0.0 0.0; 0.0 0.0 … 0.0 0.0; … ; 0.0 0.0 … 0.0 0.0; 0.0 0.0 … 0.0 0.0;;; 0.0 0.0 … 0.0 0.0; 0.0 0.0 … 0.0 0.0; … ; 0.0 0.0 … 0.0 0.0; 0.0 0.0 … 0.0 0.0], [0.0 0.0 … 0.0 0.0; 0.0 0.0 … 0.0 0.0; … ; 0.0 0.0 … 0.0 0.0; 0.0 0.0 … 0.0 0.0;;; 0.0 0.0 … 0.0 0.0; 0.0 0.0 … 0.0 0.0; … ; 0.0 0.0 … 0.0 0.0; 0.0 0.0 … 0.0 0.0;;; 0.0 0.0 … 0.0 0.0; 0.0 0.0 … 0.0 0.0; … ; 0.0 0.0 … 0.0 0.0; 0.0 0.0 … 0.0 0.0;;; … ;;; 0.0 0.0 … 0.0 0.0; 0.0 0.0 … 0.0 0.0; … ; 0.0 0.0 … 0.0 0.0; 0.0 0.0 … 0.0 0.0;;; 0.0 0.0 … 0.0 0.0; 0.0 0.0 … 0.0 0.0; … ; 0.0 0.0 … 0.0 0.0; 0.0 0.0 … 0.0 0.0;;; 0.0 0.0 … 0.0 0.0; 0.0 0.0 … 0.0 0.0; … ; 0.0 0.0 … 0.0 0.0; 0.0 0.0 … 0.0 0.0], [0.0 0.0 0.0; 0.0 0.0 0.0; 0.0 0.0 0.0], [0.0 0.0 0.0; 0.0 0.0 0.0; 0.0 0.0 0.0], [0.0, 0.0, 0.0, 0.0, 0.0, 0.0, 0.0, 0.0, 0.0, 0.0  …  0.0, 0.0, 0.0, 0.0, 0.0, 0.0, 0.0, 0.0, 0.0, 0.0], #undef, #undef, #undef, #undef, #undef), 20, 1.0, 100.0, 0.01, 0.0001, 1.0e-6, 0.1, 1, true, false, false, false)"
      ]
     },
     "metadata": {},
     "output_type": "display_data"
    }
   ],
   "source": [
    "fs = FunnelSynthesis(N,max_iter,dynamics,DLMI,list_const,scaler,w_funl,w_vc,w_tr,tol_tr,tol_vc,tol_dyn,verbosity)"
   ]
  },
  {
   "cell_type": "code",
   "execution_count": 27,
   "metadata": {},
   "outputs": [
    {
     "name": "stdout",
     "output_type": "stream",
     "text": [
      "+--------------------------------------------------------------------------------------------------+\n",
      "|                                   ..:: Penalized Trust Region ::..                               |\n",
      "+-------+------------+-----------+-----------+-----------+---------+---------+----------+----------+\n",
      "| iter. |    cost    |    tof    |   funl    |   rate    |  param  | log(vc) | log(tr)  | log(dyn) |\n",
      "+-------+------------+-----------+-----------+-----------+---------+---------+----------+----------+\n",
      "|1      |-2.32       |-1.000    |-2.354     |-1.000     |-1.000    |-Inf     | 0.6      |-7.2e+00   |\n"
     ]
    }
   ],
   "source": [
    "run(fs,Qnom,Ynom,Znom,Qini,Qf,xnom,unom,dtnom,\"Mosek\")"
   ]
  },
  {
   "cell_type": "code",
   "execution_count": 28,
   "metadata": {},
   "outputs": [
    {
     "data": {
      "text/plain": [
       "([5.170769674512177 -3.768421887880569 2.9240998789416075; -3.768421887880569 5.463223476601855 -3.850809109897669; 2.924099878941608 -3.8508091098976696 3.491330111063977;;; 5.2129492348424336 -3.7889571642431052 2.9761854049959267; -3.788957164243104 5.442649766777735 -3.8677990101078406; 2.9761854049958005 -3.867799010107208 3.4994346471368014;;; 5.294245074404704 -3.8149484942421097 3.0786735689161366; -3.814948494242106 5.366149069538887 -3.8857527009355497; 3.078673568915705 -3.8857527009335016 3.5193408353050692;;; … ;;; 0.1092401082315738 0.024203533939718042 -0.040990628353739574; 0.024203533940155595 0.06437300020342036 -0.06006184674986315; -0.040990628353979715 -0.060061846750066844 0.07342819641544772;;; 0.09284023735410053 0.01500841588386734 -0.016427535032137158; 0.01500841588453146 0.06045456430640867 -0.042427959487423325; -0.016427535032502875 -0.04242795948773091 0.050811478777275;;; 0.0773882399043082 0.007248344981193045 0.008371122370243208; 0.007248344982111301 0.05988141588587281 -0.023238182389875878; 0.008371122369735487 -0.02323818239029852 0.033156335003832485], [-0.8495260828116609 -0.09926671671102183 0.06310488897098317; 0.2512872119807761 -0.22539452175403665 -1.0525448393246755;;; -0.8566571492491578 -0.11152820987401588 0.05982824076654231; 0.2261636843359025 -0.20223701135909838 -1.0283554527068581;;; -0.8709560641420264 -0.1361144409425183 0.05325804341670298; 0.1757870419709249 -0.15580254420467793 -0.9798519106924226;;; … ;;; -0.18409679014902575 -0.13630193259235582 0.14491677565938427; 0.30636809139585375 0.2549588697998789 -0.23428465598930626;;; -0.15520187998870025 -0.12035937155805082 0.09449475866341873; 0.2940663441393442 0.2597479318793939 -0.1737094117268631;;; -0.1221337730673247 -0.10211427891170584 0.03679045572693159; 0.27998789602025115 0.26522866243089255 -0.10438548433118973])"
      ]
     },
     "metadata": {},
     "output_type": "display_data"
    }
   ],
   "source": [
    "tprop,xprop,uprop = fs.solution.tprop,fs.solution.xprop,fs.solution.uprop\n",
    "Qprop,Yprop = fs.solution.Qprop,fs.solution.Yprop"
   ]
  },
  {
   "cell_type": "code",
   "execution_count": 29,
   "metadata": {},
   "outputs": [
    {
     "data": {
      "image/png": "[encoded data removed]",
      "text/plain": [
       "Figure(PyObject <Figure size 640x480 with 1 Axes>)"
      ]
     },
     "metadata": {},
     "output_type": "display_data"
    }
   ],
   "source": [
    "radius_Q,angle_Q = get_radius_angle_Ellipse2D(fs.solution.Q)\n",
    "radius_Qi,angle_Qi = get_radius_angle_Ellipse2D(fs.solution.Qi)\n",
    "radius_Qf,angle_Qf = get_radius_angle_Ellipse2D(fs.solution.Qf)\n",
    "\n",
    "plt.figure()\n",
    "ax = plt.subplot(111)\n",
    "for (ce, H) in zip(c_list, H_list)\n",
    "    rx = 1 / H[1, 1]  # Adjusted indexing for Julia (1-based indexing)\n",
    "    ry = 1 / H[2, 2]  # Adjusted indexing for Julia\n",
    "    circle1 = matplotlib[:patches][:Ellipse]((ce[1], ce[2]), width=rx*2, height=ry*2, color=\"tab:red\", alpha=0.5, fill=true)\n",
    "    ax[:add_patch](circle1)  # Using add_patch method to add the ellipse to the plot\n",
    "end\n",
    "for i in 1:N+1\n",
    "    x_ = xnom[:,i]\n",
    "    radius = radius_Q[i]\n",
    "    angle = angle_Q[i]\n",
    "    ell = matplotlib[:patches][:Ellipse]((x_[1],x_[2]),radius[1]*2,radius[2]*2,angle=rad2deg(angle),color=\"tab:blue\",alpha=0.5,fill=true)\n",
    "    ax.add_patch(ell)\n",
    "end\n",
    "for (x_,radius,angle) in zip([xnom[:,1],xnom[:,end]],[radius_Qi[1],radius_Qf[1]],[angle_Qi[1],angle_Qf[1]])\n",
    "    ell = matplotlib[:patches][:Ellipse]((x_[1],x_[2]),radius[1]*2,radius[2]*2,angle=rad2deg(angle),color=\"tab:green\",alpha=0.5,fill=true)\n",
    "    ax.add_patch(ell)\n",
    "end\n",
    "\n",
    "ax.plot(xnom[1,:],xnom[2,:],\"o-\",color=\"tab:blue\")\n",
    "# ax.plot(ptr.solution.xprop[1,:],ptr.solution.xprop[2,:],\"-\",color=\"tab:blue\")\n",
    "ax.grid(true)\n",
    "ax[:axis](\"equal\")\n",
    "gcf()"
   ]
  },
  {
   "cell_type": "markdown",
   "metadata": {},
   "source": [
    "## Check eigenvalue of Q"
   ]
  },
  {
   "cell_type": "code",
   "execution_count": 15,
   "metadata": {},
   "outputs": [
    {
     "ename": "UndefVarError",
     "evalue": "UndefVarError: `Qprop` not defined",
     "output_type": "error",
     "traceback": [
      "UndefVarError: `Qprop` not defined\n",
      "\n",
      "Stacktrace:\n",
      " [1] top-level scope\n",
      "   @ ~/Documents/Code/Personal/Funnel_CTCS/funl_unicycle.ipynb:1"
     ]
    }
   ],
   "source": [
    "min_lam_q = zeros(size(Qprop,3))\n",
    "for i in 1:size(Qprop,3)\n",
    "    eigvals = eigen(Qprop[:,:,i]).values\n",
    "    min_lam_q[i] = eigvals[1]\n",
    "end"
   ]
  },
  {
   "cell_type": "code",
   "execution_count": 16,
   "metadata": {},
   "outputs": [
    {
     "ename": "UndefVarError",
     "evalue": "UndefVarError: `tprop` not defined",
     "output_type": "error",
     "traceback": [
      "UndefVarError: `tprop` not defined\n",
      "\n",
      "Stacktrace:\n",
      " [1] top-level scope\n",
      "   @ ~/Documents/Code/Personal/Funnel_CTCS/funl_unicycle.ipynb:2"
     ]
    }
   ],
   "source": [
    "plt.figure(figsize=(10,3))\n",
    "plt.plot(tprop,min_lam_q)\n",
    "plt.plot(tprop,tprop*0,\"--\")\n",
    "gcf()"
   ]
  },
  {
   "cell_type": "code",
   "execution_count": 17,
   "metadata": {},
   "outputs": [
    {
     "ename": "UndefVarError",
     "evalue": "UndefVarError: `min_lam_q` not defined",
     "output_type": "error",
     "traceback": [
      "UndefVarError: `min_lam_q` not defined\n",
      "\n",
      "Stacktrace:\n",
      " [1] top-level scope\n",
      "   @ ~/Documents/Code/Personal/Funnel_CTCS/funl_unicycle.ipynb:1"
     ]
    }
   ],
   "source": [
    "findfirst(x -> x < 0, min_lam_q)"
   ]
  },
  {
   "cell_type": "code",
   "execution_count": 18,
   "metadata": {},
   "outputs": [
    {
     "ename": "UndefVarError",
     "evalue": "UndefVarError: `min_lam_q` not defined",
     "output_type": "error",
     "traceback": [
      "UndefVarError: `min_lam_q` not defined\n",
      "\n",
      "Stacktrace:\n",
      " [1] top-level scope\n",
      "   @ ~/Documents/Code/Personal/Funnel_CTCS/funl_unicycle.ipynb:1"
     ]
    }
   ],
   "source": [
    "min_lam_q[85]"
   ]
  },
  {
   "cell_type": "code",
   "execution_count": 19,
   "metadata": {},
   "outputs": [
    {
     "data": {
      "text/plain": [
       "project_onto_input (generic function with 1 method)"
      ]
     },
     "metadata": {},
     "output_type": "display_data"
    }
   ],
   "source": [
    "function project_onto_input(Q,Y) \n",
    "    R = []\n",
    "    for i in 1:size(Q,3)\n",
    "        K = Y[:,:,i] * inv(Q[:,:,i])\n",
    "        push!(R,K*Q[:,:,i]*K')\n",
    "    end\n",
    "    projected_input_funl = []\n",
    "    for j in 1:iu\n",
    "        a = zeros(iu)\n",
    "        a[j] = 1\n",
    "        each_funl = []\n",
    "        for i in 1:length(R)\n",
    "            push!(each_funl,sqrt(a'*R[i]*a))\n",
    "        end\n",
    "        push!(projected_input_funl,each_funl)\n",
    "    end\n",
    "    return projected_input_funl\n",
    "end"
   ]
  },
  {
   "cell_type": "code",
   "execution_count": 20,
   "metadata": {},
   "outputs": [
    {
     "ename": "UndefVarError",
     "evalue": "UndefVarError: `Qprop` not defined",
     "output_type": "error",
     "traceback": [
      "UndefVarError: `Qprop` not defined\n",
      "\n",
      "Stacktrace:\n",
      " [1] top-level scope\n",
      "   @ ~/Documents/Code/Personal/Funnel_CTCS/funl_unicycle.ipynb:1"
     ]
    }
   ],
   "source": [
    "input_proj_funl_prop = project_onto_input(Qprop,Yprop)\n",
    "input_proj_funl_nom = project_onto_input(fs.solution.Q,fs.solution.Y)"
   ]
  },
  {
   "cell_type": "code",
   "execution_count": 21,
   "metadata": {},
   "outputs": [
    {
     "ename": "UndefVarError",
     "evalue": "UndefVarError: `input_proj_funl_nom` not defined",
     "output_type": "error",
     "traceback": [
      "UndefVarError: `input_proj_funl_nom` not defined\n",
      "\n",
      "Stacktrace:\n",
      " [1] top-level scope\n",
      "   @ ~/Documents/Code/Personal/Funnel_CTCS/funl_unicycle.ipynb:4"
     ]
    }
   ],
   "source": [
    "plt.figure(figsize=(10,3))\n",
    "plt.subplot(121)\n",
    "plt.plot(tnom,unom[1,:],\"--\",color=\"black\")\n",
    "plt.plot(tnom,unom[1,:]+input_proj_funl_nom[1],\"o\",color=\"tab:blue\")\n",
    "plt.plot(tnom,unom[1,:]-input_proj_funl_nom[1],\"o\",color=\"tab:blue\")\n",
    "plt.plot(tprop,uprop[1,:]+input_proj_funl_prop[1],\"-\",color=\"tab:blue\")\n",
    "plt.plot(tprop,uprop[1,:]-input_proj_funl_prop[1],\"-\",color=\"tab:blue\")\n",
    "plt.plot(tnom,tnom*0 .+ vmax,\"--\",color=\"tab:red\")\n",
    "plt.plot(tnom,tnom*0 .+ vmin,\"--\",color=\"tab:red\")\n",
    "# plt.ylim([-0.1,2.1])\n",
    "plt.grid(true)\n",
    "plt.subplot(122)\n",
    "plt.plot(tnom,unom[2,:],\"--\",color=\"black\")\n",
    "plt.plot(tnom,unom[2,:]+input_proj_funl_nom[2],\"o\",color=\"tab:blue\")\n",
    "plt.plot(tnom,unom[2,:]-input_proj_funl_nom[2],\"o\",color=\"tab:blue\")\n",
    "plt.plot(tprop,uprop[2,:]+input_proj_funl_prop[2],\"-\",color=\"tab:blue\")\n",
    "plt.plot(tprop,uprop[2,:]-input_proj_funl_prop[2],\"-\",color=\"tab:blue\")\n",
    "plt.plot(tnom,tnom*0 .+ wmax,\"--\",color=\"tab:red\")\n",
    "plt.plot(tnom,tnom*0 .+ wmin,\"--\",color=\"tab:red\")\n",
    "# plt.ylim([-2.5,2.5])\n",
    "plt.grid(true)\n",
    "gcf()"
   ]
  },
  {
   "cell_type": "code",
   "execution_count": 22,
   "metadata": {},
   "outputs": [],
   "source": [
    "# my_dict = Dict(\"x\" => xnom, \"u\" => unom, \"t\" => tnom,\n",
    "#      \"Q\" => fs.solution.Q, \"Y\" => fs.solution.Y, \"Z\" => fs.solution.Z)\n",
    "# using JLD2, FileIO\n",
    "\n",
    "# @save \"./data/xuQYZ_unicycle_0328\" my_dict"
   ]
  },
  {
   "cell_type": "code",
   "execution_count": 23,
   "metadata": {},
   "outputs": [],
   "source": []
  }
 ],
 "metadata": {
  "kernelspec": {
   "display_name": "Julia 1.9.4",
   "language": "julia",
   "name": "julia-1.9"
  },
  "language_info": {
   "file_extension": ".jl",
   "mimetype": "application/julia",
   "name": "julia",
   "version": "1.9.4"
  }
 },
 "nbformat": 4,
 "nbformat_minor": 2
}
