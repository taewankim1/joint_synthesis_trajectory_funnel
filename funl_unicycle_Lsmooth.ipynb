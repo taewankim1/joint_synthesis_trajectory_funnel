{
 "cells": [
  {
   "cell_type": "code",
   "execution_count": 1,
   "metadata": {},
   "outputs": [
    {
     "data": {
      "text/plain": [
       "compute_scaling (generic function with 1 method)"
      ]
     },
     "metadata": {},
     "output_type": "display_data"
    }
   ],
   "source": [
    "include(\"./trajopt/utils.jl\")\n",
    "include(\"./trajopt/dynamics.jl\")\n",
    "include(\"./funlopt/funl_dynamics.jl\")\n",
    "include(\"./funlopt/funl_utils.jl\")\n",
    "include(\"./funlopt/funl_constraint.jl\")\n",
    "include(\"./trajopt/scaling.jl\")"
   ]
  },
  {
   "cell_type": "code",
   "execution_count": 2,
   "metadata": {},
   "outputs": [],
   "source": [
    "# load nominal trajectory\n",
    "using JLD2, FileIO\n",
    "# @load \"./data/nominal_traj_unicycle_0324\" my_dict\n",
    "@load \"./data/nominal_traj_unicycle_N4\" my_dict\n",
    "xnom = my_dict[\"x\"]\n",
    "unom = my_dict[\"u\"]\n",
    "tnom = my_dict[\"t\"];\n",
    "N = size(xnom,2) - 1\n",
    "dtnom = zeros(N)\n",
    "for i in 1:N\n",
    "    dtnom[i] = tnom[i+1]-tnom[i]\n",
    "end"
   ]
  },
  {
   "cell_type": "code",
   "execution_count": 3,
   "metadata": {},
   "outputs": [
    {
     "data": {
      "text/plain": [
       "LinearFOH(0.1, 3, 2, 9, 6, 0, [1 0 … 0 0; 0 0 … 0 0; … ; 0 0 … 0 0; 0 0 … 0 1], [1 0 … 0 0; 0 0 … 0 0; … ; 0 0 … 0 0; 0 0 … 0 1])"
      ]
     },
     "metadata": {},
     "output_type": "display_data"
    }
   ],
   "source": [
    "dynamics = Unicycle()\n",
    "ix = dynamics.ix\n",
    "iu = dynamics.iu\n",
    "alpha = 0.1\n",
    "# DLMI = LinearDLMI(alpha,ix,iu)\n",
    "DLMI = LinearFOH(alpha,ix,iu)\n",
    "# DLMI = LinearQS(alpha,ix,iu)"
   ]
  },
  {
   "cell_type": "code",
   "execution_count": null,
   "metadata": {},
   "outputs": [],
   "source": [
    "function get_H_obs(rx,ry)\n",
    "    return diagm([1/rx,1/ry])\n",
    "end\n",
    "c_list = []\n",
    "H_list = []\n",
    "c1 = [1,2]\n",
    "H1 = get_H_obs(0.5,0.5)\n",
    "push!(c_list,c1)\n",
    "push!(H_list,H1)\n",
    "c2 = [4,3]\n",
    "H2 = get_H_obs(0.5,0.5)\n",
    "push!(c_list,c2)\n",
    "push!(H_list,H2)\n",
    "\n",
    "vmax = 2.0\n",
    "vmin = 0.0\n",
    "wmax = 2.0\n",
    "wmin = -2.0\n",
    "list_const = [InputConstraint([1;0],vmax),\n",
    "    InputConstraint([-1;0],-vmin),\n",
    "    InputConstraint([0; 1],wmax),\n",
    "    InputConstraint([0; -1],-wmin),\n",
    "    ObstacleAvoidance(H_list[1],c_list[1]),\n",
    "    ObstacleAvoidance(H_list[2],c_list[2])\n",
    "    ]"
   ]
  },
  {
   "cell_type": "code",
   "execution_count": null,
   "metadata": {},
   "outputs": [],
   "source": [
    "# dynamics.β .= [vmax,1.0,vmax,1.0]\n",
    "dynamics.β .= [2.0,2.0]\n",
    "# dynamics.β .= [2*sqrt(2)]\n",
    "println(dynamics.β)\n",
    "θ0 = 1.0"
   ]
  },
  {
   "cell_type": "code",
   "execution_count": null,
   "metadata": {},
   "outputs": [],
   "source": [
    "Qnom = zeros(ix,ix,N+1)\n",
    "Ynom = zeros(iu,ix,N+1)\n",
    "Snom = zeros(iu,iu,N+1)\n",
    "Znom = zeros(ix,ix,N+1);\n",
    "Qini = diagm([0.08,0.08,0.06])\n",
    "Qf = diagm([0.08,0.08,0.06])"
   ]
  },
  {
   "cell_type": "code",
   "execution_count": null,
   "metadata": {},
   "outputs": [],
   "source": [
    "xmin = [0;0;0];\n",
    "xmax = [5;5;pi];\n",
    "umin = [0;0];\n",
    "umax = [vmax;wmax];\n",
    "scaler = Scaling(xmin, xmax, umin, umax, tnom[end],0,0)"
   ]
  },
  {
   "cell_type": "code",
   "execution_count": null,
   "metadata": {},
   "outputs": [],
   "source": [
    "include(\"./funlopt/funl_synthesis.jl\")"
   ]
  },
  {
   "cell_type": "code",
   "execution_count": null,
   "metadata": {},
   "outputs": [],
   "source": [
    "max_iter = 1;\n",
    "w_funl = 1.0;\n",
    "w_vc = 1e2;\n",
    "w_tr::Float64 = 0.00\n",
    "tol_vc = 1e-6;\n",
    "tol_tr = 1e-5;\n",
    "tol_dyn = 1e-1;\n",
    "verbosity = true;"
   ]
  },
  {
   "cell_type": "code",
   "execution_count": null,
   "metadata": {},
   "outputs": [],
   "source": [
    "fs = FunnelSynthesis(N,max_iter,dynamics,DLMI,list_const,scaler,\n",
    "    w_funl,w_vc,w_tr,tol_tr,tol_vc,tol_dyn,verbosity,\n",
    "    flag_type=\"Lsmooth\")"
   ]
  },
  {
   "cell_type": "code",
   "execution_count": null,
   "metadata": {},
   "outputs": [],
   "source": [
    "run(fs,Qnom,Ynom,Znom,Qini,Qf,xnom,unom,dtnom,\"Mosek\",θ0)\n",
    "# run(fs,Qnom,Ynom,Znom,Qini,Qf,xnom,unom,dtnom,\"Clarabel\",θ0)"
   ]
  },
  {
   "cell_type": "code",
   "execution_count": null,
   "metadata": {},
   "outputs": [],
   "source": [
    "tprop,xprop,uprop = fs.solution.tprop,fs.solution.xprop,fs.solution.uprop\n",
    "Qprop,Yprop,Zprop = fs.solution.Qprop,fs.solution.Yprop,fs.solution.Zprop"
   ]
  },
  {
   "cell_type": "code",
   "execution_count": null,
   "metadata": {},
   "outputs": [],
   "source": [
    "using Interpolations\n",
    "fit_b = LinearInterpolation(tnom, fs.solution.b,extrapolation_bc=Flat());\n",
    "bprop = fit_b(tprop);"
   ]
  },
  {
   "cell_type": "code",
   "execution_count": null,
   "metadata": {},
   "outputs": [],
   "source": [
    "radius_Q,angle_Q = get_radius_angle_Ellipse2D(fs.solution.Q)\n",
    "radius_Qi,angle_Qi = get_radius_angle_Ellipse2D(fs.solution.Qi)\n",
    "radius_Qf,angle_Qf = get_radius_angle_Ellipse2D(fs.solution.Qf)\n",
    "\n",
    "plt.figure()\n",
    "ax = plt.subplot(111)\n",
    "for (ce, H) in zip(c_list, H_list)\n",
    "    rx = 1 / H[1, 1]  # Adjusted indexing for Julia (1-based indexing)\n",
    "    ry = 1 / H[2, 2]  # Adjusted indexing for Julia\n",
    "    circle1 = matplotlib[:patches][:Ellipse]((ce[1], ce[2]), width=rx*2, height=ry*2, color=\"tab:red\", alpha=0.5, fill=true)\n",
    "    ax[:add_patch](circle1)  # Using add_patch method to add the ellipse to the plot\n",
    "end\n",
    "for i in 1:N+1\n",
    "    x_ = xnom[:,i]\n",
    "    radius = radius_Q[i]\n",
    "    angle = angle_Q[i]\n",
    "    ell = matplotlib[:patches][:Ellipse]((x_[1],x_[2]),radius[1]*2,radius[2]*2,angle=rad2deg(angle),color=\"tab:blue\",alpha=0.5,fill=true)\n",
    "    ax.add_patch(ell)\n",
    "end\n",
    "for (x_,radius,angle) in zip([xnom[:,1],xnom[:,end]],[radius_Qi[1],radius_Qf[1]],[angle_Qi[1],angle_Qf[1]])\n",
    "    ell = matplotlib[:patches][:Ellipse]((x_[1],x_[2]),radius[1]*2,radius[2]*2,angle=rad2deg(angle),color=\"tab:green\",alpha=0.5,fill=true)\n",
    "    ax.add_patch(ell)\n",
    "end\n",
    "\n",
    "ax.plot(xnom[1,:],xnom[2,:],\"o-\",color=\"tab:blue\")\n",
    "# ax.plot(ptr.solution.xprop[1,:],ptr.solution.xprop[2,:],\"-\",color=\"tab:blue\")\n",
    "ax.grid(true)\n",
    "ax[:axis](\"equal\")\n",
    "gcf()"
   ]
  },
  {
   "cell_type": "markdown",
   "metadata": {},
   "source": [
    "# estimate β"
   ]
  },
  {
   "cell_type": "code",
   "execution_count": null,
   "metadata": {},
   "outputs": [],
   "source": [
    "using Distributions, Random"
   ]
  },
  {
   "cell_type": "code",
   "execution_count": null,
   "metadata": {},
   "outputs": [],
   "source": [
    "J_estimation = zeros(fs.dynamics.iψ,N+1)\n",
    "for idx in 1:N+1\n",
    "    num_sample = 100\n",
    "    J_sample = zeros(fs.dynamics.iψ,num_sample)\n",
    "    for j in 1:num_sample\n",
    "        # sample\n",
    "        sqrt_Q = sqrt(fs.solution.Q[:,:,idx])\n",
    "        K = fs.solution.Y[:,:,idx] * inv(fs.solution.Q[:,:,idx])\n",
    "        z = randn(ix)\n",
    "        z .= z / norm(z)\n",
    "        η = sqrt_Q * z\n",
    "        x_ = xnom[:,idx] + η\n",
    "        ξ = K * η\n",
    "        u_ = unom[:,idx] + ξ\n",
    "        A,B = diff(fs.dynamics,xnom[:,idx],unom[:,idx])\n",
    "        f = forward(fs.dynamics,xnom[:,idx],unom[:,idx])\n",
    "        fnext = forward(fs.dynamics,x_,u_)\n",
    "        eta_dot = fnext - f\n",
    "        LHS = eta_dot - A*η - B*ξ\n",
    "        mu = fs.dynamics.Cμ * η + fs.dynamics.Dμu * ξ\n",
    "\n",
    "        model = Model(Mosek.Optimizer)\n",
    "        set_optimizer_attribute(model, \"MSK_IPAR_LOG\", 0) # Turn off verbosity for Mosek\n",
    "\n",
    "        # @variable(model,J[1:fs.dynamics.iψ])\n",
    "        # @variable(model,norm_J)\n",
    "        # @constraint(model, [norm_J; J] in SecondOrderCone())\n",
    "        # @constraint(model, LHS == fs.dynamics.G * diagm(J) * mu)\n",
    "\n",
    "        @variable(model,J[1:fs.dynamics.iψ,1:fs.dynamics.iμ])\n",
    "        @variable(model,norm_J)\n",
    "        @constraint(model, [norm_J; vec(J)] in SecondOrderCone())\n",
    "        @constraint(model, LHS == fs.dynamics.G * J * mu)\n",
    "\n",
    "        @objective(model,Min,norm_J)\n",
    "        optimize!(model)\n",
    "        for i in 1:fs.dynamics.iψ\n",
    "            J_sample[i,j] = norm(value.(J[i,:]))\n",
    "        end\n",
    "        # println(eta_dot)\n",
    "        # println(LHS)\n",
    "        # println(mu)\n",
    "        # println(value.(J))\n",
    "    end\n",
    "    J_estimation[:,idx] .= maximum(J_sample,dims = 2)\n",
    "end"
   ]
  },
  {
   "cell_type": "code",
   "execution_count": null,
   "metadata": {},
   "outputs": [],
   "source": [
    "J_result = zeros(fs.dynamics.iψ,N+1)\n",
    "for idx in 1:N+1\n",
    "    J_result[:,idx] .= fs.dynamics.β .* sqrt.(fs.solution.b[idx])\n",
    "end"
   ]
  },
  {
   "cell_type": "code",
   "execution_count": null,
   "metadata": {},
   "outputs": [],
   "source": [
    "plt.figure(figsize=(10,3))\n",
    "plt.subplot(121)\n",
    "plt.plot(J_result[1,:],\"--\")\n",
    "plt.plot(J_estimation[1,:])\n",
    "plt.subplot(122)\n",
    "plt.plot(J_result[2,:],\"--\")\n",
    "plt.plot(J_estimation[2,:])\n",
    "gcf()"
   ]
  },
  {
   "cell_type": "code",
   "execution_count": null,
   "metadata": {},
   "outputs": [],
   "source": [
    "# function get_β_unicycle(x,u)\n",
    "#     v1 = x[3]\n",
    "#     v2 = u[1]\n",
    "#     beta = zeros(4)\n",
    "#     beta[1] = sqrt((v2*cos(v1))^2 + sin(v1)^2)\n",
    "#     beta[2] = sqrt(sin(v1)^2)\n",
    "#     beta[3] = sqrt((v2*sin(v1))^2 + cos(v1)^2)\n",
    "#     beta[4] = sqrt(cos(v1)^2)\n",
    "#     return beta\n",
    "# end\n",
    "function get_β_unicycle(x,u)\n",
    "    v1 = x[3]\n",
    "    v2 = u[1]\n",
    "    beta = zeros(2)\n",
    "    beta[1] = sqrt((v2*cos(v1))^2 + 2*sin(v1)^2)\n",
    "    beta[2] = sqrt((v2*sin(v1))^2 + 2*cos(v1)^2)\n",
    "    return beta\n",
    "end\n"
   ]
  },
  {
   "cell_type": "code",
   "execution_count": null,
   "metadata": {},
   "outputs": [],
   "source": [
    "idx = 1\n",
    "num_sample = 100\n",
    "β_estimation = zeros(fs.dynamics.iψ,N+1)\n",
    "v_estimation = zeros(N+1)\n",
    "for idx in 1:N+1\n",
    "    β_sample = zeros(fs.dynamics.iψ,num_sample)\n",
    "    v_sample = zeros(num_sample)\n",
    "    for j in 1:num_sample\n",
    "        sqrt_Q = sqrt(fs.solution.Q[:,:,idx])\n",
    "        K = fs.solution.Y[:,:,idx] * inv(fs.solution.Q[:,:,idx])\n",
    "        z = randn(ix)\n",
    "        z .= z / norm(z)\n",
    "        η = sqrt_Q * z\n",
    "        x_ = xnom[:,idx] + η\n",
    "        ξ = K * η\n",
    "        u_ = unom[:,idx] + ξ\n",
    "        v = [x_[3];u_[1]]\n",
    "        vbar = [xnom[3,idx];unom[1,idx]]\n",
    "        v_sample[j] = norm(v-vbar)\n",
    "        β_sample[:,j] .= get_β_unicycle(x_,u_)\n",
    "    end\n",
    "    β_estimation[:,idx] .= maximum(β_sample,dims = 2)\n",
    "    v_estimation[idx] = maximum(v_sample)\n",
    "end"
   ]
  },
  {
   "cell_type": "code",
   "execution_count": null,
   "metadata": {},
   "outputs": [],
   "source": [
    "β_estimation"
   ]
  },
  {
   "cell_type": "code",
   "execution_count": null,
   "metadata": {},
   "outputs": [],
   "source": [
    "maximum(β_estimation,dims=2)"
   ]
  },
  {
   "cell_type": "code",
   "execution_count": null,
   "metadata": {},
   "outputs": [],
   "source": [
    "maximum(abs.(sqrt.(fs.solution.b) .- v_estimation))"
   ]
  },
  {
   "cell_type": "markdown",
   "metadata": {},
   "source": [
    "## Check eigenvalue of Q"
   ]
  },
  {
   "cell_type": "code",
   "execution_count": null,
   "metadata": {},
   "outputs": [],
   "source": [
    "min_lam_qprop = zeros(size(Qprop,3))\n",
    "for i in 1:size(Qprop,3)\n",
    "    eigvals = eigen(Qprop[:,:,i]).values\n",
    "    min_lam_qprop[i] = eigvals[1]\n",
    "end\n",
    "min_lam_q = zeros(size(fs.solution.Q,3))\n",
    "for i in 1:size(fs.solution.Q,3)\n",
    "    eigvals = eigen(fs.solution.Q[:,:,i]).values\n",
    "    min_lam_q[i] = eigvals[1]\n",
    "end"
   ]
  },
  {
   "cell_type": "code",
   "execution_count": null,
   "metadata": {},
   "outputs": [],
   "source": [
    "plt.figure(figsize=(10,3))\n",
    "plt.plot(tnom,min_lam_q,\"o\",color=\"tab:blue\")\n",
    "plt.plot(tprop,min_lam_qprop,\"-\",color=\"tab:blue\")\n",
    "plt.plot(tprop,tprop*0,\"--\",color=\"tab:red\")\n",
    "# plt.xlim([tnom[19],tnom[20]])\n",
    "# plt.ylim([-1e-2,1e-2])\n",
    "gcf()"
   ]
  },
  {
   "cell_type": "code",
   "execution_count": null,
   "metadata": {},
   "outputs": [],
   "source": [
    "findfirst(x -> x < 0, min_lam_q)"
   ]
  },
  {
   "cell_type": "markdown",
   "metadata": {},
   "source": [
    "## Check eigenvalue of Block DLMI"
   ]
  },
  {
   "cell_type": "code",
   "execution_count": null,
   "metadata": {},
   "outputs": [],
   "source": [
    "θ = θ0[1]\n",
    "fs.dynamics.β\n",
    "iψ = fs.dynamics.iψ\n",
    "iμ = fs.dynamics.iμ"
   ]
  },
  {
   "cell_type": "code",
   "execution_count": null,
   "metadata": {},
   "outputs": [],
   "source": [
    "# function get_H(fs,Qprop,Yprop,Zprop,bprop,θ)\n",
    "#     N11 =  I(fs.dynamics.iμ) .* (θ ./ ( fs.dynamics.β .* fs.dynamics.β))\n",
    "#     N22 =  bprop .* θ .* I(fs.dynamics.iψ)\n",
    "#     LMI11 = -Zprop\n",
    "#     LMI21 = N22 * fs.dynamics.G'\n",
    "#     LMI22 = -N22\n",
    "#     LMI31 = fs.dynamics.Cμ * Qprop + fs.dynamics.Dμu * Yprop\n",
    "#     LMI32 = zeros(fs.dynamics.iμ,fs.dynamics.iψ)\n",
    "#     LMI33 = -N11\n",
    "#     return [LMI11 LMI21' LMI31';\n",
    "#         LMI21 LMI22 LMI32';\n",
    "#         LMI31 LMI32 LMI33\n",
    "#     ]\n",
    "# end\n",
    "function get_H_(fs,Qprop,Yprop,Zprop,bprop,xprop,uprop)\n",
    "    θ = θ0\n",
    "    Aprop,Bprop = diff(fs.dynamics,xprop,uprop)\n",
    "    N11 =  I(fs.dynamics.iμ) .* (θ ./ ( fs.dynamics.β .* fs.dynamics.β))\n",
    "    N22 =  bprop .* θ .* I(fs.dynamics.iψ)\n",
    "    LMI11 = Aprop*Qprop + Qprop*Aprop' + Bprop*Yprop + Yprop'*Bprop' + fs.funl_dynamics.alpha * Qprop - Zprop\n",
    "    LMI21 = N22 * fs.dynamics.G'\n",
    "    LMI22 = -N22\n",
    "    LMI31 = fs.dynamics.Cμ * Qprop + fs.dynamics.Dμu * Yprop\n",
    "    LMI32 = zeros(fs.dynamics.iμ,fs.dynamics.iψ)\n",
    "    LMI33 = -N11\n",
    "    return [LMI11 LMI21' LMI31';\n",
    "        LMI21 LMI22 LMI32';\n",
    "        LMI31 LMI32 LMI33\n",
    "    ]\n",
    "end\n",
    "Hprop = zeros(ix+iψ+iμ,ix+iψ+iμ,length(tprop))\n",
    "H = zeros(ix+iψ+iμ,ix+iψ+iμ,length(tnom))\n",
    "for i in 1:length(tprop)\n",
    "    Hprop[:,:,i] .= get_H_(fs,Qprop[:,:,i],Yprop[:,:,i],Zprop[:,:,i],bprop[i],xprop[:,i],uprop[:,i])\n",
    "end\n",
    "for i in 1:length(tnom)\n",
    "    H[:,:,i] .= get_H_(fs,fs.solution.Q[:,:,i],fs.solution.Y[:,:,i],fs.solution.Z[:,:,i],fs.solution.b[i],xnom[:,i],unom[:,i])\n",
    "end"
   ]
  },
  {
   "cell_type": "code",
   "execution_count": null,
   "metadata": {},
   "outputs": [],
   "source": [
    "max_lam_Hprop = zeros(size(Hprop,3))\n",
    "for i in 1:size(Qprop,3)\n",
    "    eig_vals = eigen(Hprop[:,:,i]).values\n",
    "    if i == 1\n",
    "        println(eig_vals)\n",
    "    end\n",
    "    max_lam_Hprop[i] = eig_vals[end]\n",
    "end\n",
    "max_lam_H = zeros(size(H,3))\n",
    "for i in 1:size(H,3)\n",
    "    eig_vals = eigen(H[:,:,i]).values\n",
    "    if i == 1\n",
    "        println(eig_vals)\n",
    "    end\n",
    "    max_lam_H[i] = eig_vals[end]\n",
    "end"
   ]
  },
  {
   "cell_type": "code",
   "execution_count": null,
   "metadata": {},
   "outputs": [],
   "source": [
    "plt.figure(figsize=(10,3))\n",
    "plt.plot(tprop,max_lam_Hprop,\"-\",color=\"tab:blue\")\n",
    "plt.plot(tnom,max_lam_H,\"o\",color=\"tab:blue\")\n",
    "plt.plot(tprop,tprop*0,\"--\",color=\"tab:red\")\n",
    "gcf()"
   ]
  },
  {
   "cell_type": "code",
   "execution_count": null,
   "metadata": {},
   "outputs": [],
   "source": [
    "plt.figure()\n",
    "plt.plot(tprop,Zprop[1,1,:])\n",
    "plt.plot(tnom,fs.solution.Z[1,1,:],\"o\")\n",
    "gcf()"
   ]
  },
  {
   "cell_type": "code",
   "execution_count": null,
   "metadata": {},
   "outputs": [],
   "source": [
    "function project_onto_input(Q,Y) \n",
    "    R = []\n",
    "    for i in 1:size(Q,3)\n",
    "        K = Y[:,:,i] * inv(Q[:,:,i])\n",
    "        push!(R,K*Q[:,:,i]*K')\n",
    "    end\n",
    "    projected_input_funl = []\n",
    "    for j in 1:iu\n",
    "        a = zeros(iu)\n",
    "        a[j] = 1\n",
    "        each_funl = []\n",
    "        for i in 1:length(R)\n",
    "            push!(each_funl,sqrt(a'*R[i]*a))\n",
    "        end\n",
    "        push!(projected_input_funl,each_funl)\n",
    "    end\n",
    "    return projected_input_funl\n",
    "end"
   ]
  },
  {
   "cell_type": "code",
   "execution_count": null,
   "metadata": {},
   "outputs": [],
   "source": [
    "input_proj_funl_nom = project_onto_input(fs.solution.Q,fs.solution.Y)\n",
    "input_proj_funl_prop = project_onto_input(Qprop,Yprop)"
   ]
  },
  {
   "cell_type": "code",
   "execution_count": null,
   "metadata": {},
   "outputs": [],
   "source": [
    "plt.figure(figsize=(10,3))\n",
    "plt.subplot(121)\n",
    "plt.plot(tnom,unom[1,:],\"--\",color=\"black\")\n",
    "plt.plot(tnom,unom[1,:]+input_proj_funl_nom[1],\"o\",color=\"tab:blue\")\n",
    "plt.plot(tnom,unom[1,:]-input_proj_funl_nom[1],\"o\",color=\"tab:blue\")\n",
    "plt.plot(tprop,uprop[1,:]+input_proj_funl_prop[1],\"-\",color=\"tab:blue\")\n",
    "plt.plot(tprop,uprop[1,:]-input_proj_funl_prop[1],\"-\",color=\"tab:blue\")\n",
    "plt.plot(tnom,tnom*0 .+ vmax,\"--\",color=\"tab:red\")\n",
    "plt.plot(tnom,tnom*0 .+ vmin,\"--\",color=\"tab:red\")\n",
    "# plt.ylim([-0.1,2.1])\n",
    "plt.grid(true)\n",
    "plt.subplot(122)\n",
    "plt.plot(tnom,unom[2,:],\"--\",color=\"black\")\n",
    "plt.plot(tnom,unom[2,:]+input_proj_funl_nom[2],\"o\",color=\"tab:blue\")\n",
    "plt.plot(tnom,unom[2,:]-input_proj_funl_nom[2],\"o\",color=\"tab:blue\")\n",
    "plt.plot(tprop,uprop[2,:]+input_proj_funl_prop[2],\"-\",color=\"tab:blue\")\n",
    "plt.plot(tprop,uprop[2,:]-input_proj_funl_prop[2],\"-\",color=\"tab:blue\")\n",
    "plt.plot(tnom,tnom*0 .+ wmax,\"--\",color=\"tab:red\")\n",
    "plt.plot(tnom,tnom*0 .+ wmin,\"--\",color=\"tab:red\")\n",
    "# plt.ylim([-2.5,2.5])\n",
    "plt.grid(true)\n",
    "gcf()"
   ]
  },
  {
   "cell_type": "code",
   "execution_count": null,
   "metadata": {},
   "outputs": [],
   "source": [
    "# my_dict = Dict(\"x\" => xnom, \"u\" => unom, \"t\" => tnom,\n",
    "#      \"Q\" => fs.solution.Q, \"Y\" => fs.solution.Y, \"Z\" => fs.solution.Z)\n",
    "# using JLD2, FileIO\n",
    "\n",
    "# @save \"./data/unicycle_ICV_0408\" my_dict"
   ]
  },
  {
   "cell_type": "code",
   "execution_count": null,
   "metadata": {},
   "outputs": [],
   "source": []
  }
 ],
 "metadata": {
  "kernelspec": {
   "display_name": "Julia 1.9.4",
   "language": "julia",
   "name": "julia-1.9"
  },
  "language_info": {
   "file_extension": ".jl",
   "mimetype": "application/julia",
   "name": "julia",
   "version": "1.9.4"
  }
 },
 "nbformat": 4,
 "nbformat_minor": 2
}
