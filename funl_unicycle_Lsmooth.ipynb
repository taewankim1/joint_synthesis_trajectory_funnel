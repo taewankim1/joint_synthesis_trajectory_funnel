{
 "cells": [
  {
   "cell_type": "code",
   "execution_count": null,
   "metadata": {},
   "outputs": [],
   "source": [
    "include(\"./trajopt/utils.jl\")\n",
    "include(\"./trajopt/dynamics.jl\")\n",
    "include(\"./funlopt/funl_dynamics.jl\")\n",
    "include(\"./funlopt/funl_utils.jl\")\n",
    "include(\"./funlopt/funl_constraint.jl\")\n",
    "include(\"./trajopt/scaling.jl\")\n",
    "# using Plots"
   ]
  },
  {
   "cell_type": "code",
   "execution_count": null,
   "metadata": {},
   "outputs": [],
   "source": [
    "# load nominal trajectory\n",
    "using JLD2, FileIO\n",
    "@load \"./data/nominal_traj_unicycle_0324\" my_dict\n",
    "# @load \"./data/nominal_traj_unicycle_N4\" my_dict\n",
    "xnom = my_dict[\"x\"]\n",
    "unom = my_dict[\"u\"]\n",
    "tnom = my_dict[\"t\"];\n",
    "N = size(xnom,2) - 1\n",
    "dtnom = zeros(N)\n",
    "for i in 1:N\n",
    "    dtnom[i] = tnom[i+1]-tnom[i]\n",
    "end"
   ]
  },
  {
   "cell_type": "code",
   "execution_count": null,
   "metadata": {},
   "outputs": [],
   "source": [
    "dynamics = Unicycle()\n",
    "ix = dynamics.ix\n",
    "iu = dynamics.iu\n",
    "alpha = 0.1\n",
    "# DLMI = LinearDLMI(alpha,ix,iu)\n",
    "DLMI = LinearFOH(alpha,ix,iu)\n",
    "# DLMI = LinearQS(alpha,ix,iu)"
   ]
  },
  {
   "cell_type": "code",
   "execution_count": null,
   "metadata": {},
   "outputs": [],
   "source": [
    "function get_H_obs(rx,ry)\n",
    "    return diagm([1/rx,1/ry])\n",
    "end\n",
    "c_list = []\n",
    "H_list = []\n",
    "c1 = [1,2]\n",
    "H1 = get_H_obs(0.5,0.5)\n",
    "push!(c_list,c1)\n",
    "push!(H_list,H1)\n",
    "c2 = [4,3]\n",
    "H2 = get_H_obs(0.5,0.5)\n",
    "push!(c_list,c2)\n",
    "push!(H_list,H2)\n",
    "\n",
    "vmax = 2.0\n",
    "vmin = 0.0\n",
    "wmax = 2.0\n",
    "wmin = -2.0\n",
    "list_const = [InputConstraint([1;0],vmax),\n",
    "    InputConstraint([-1;0],-vmin),\n",
    "    InputConstraint([0; 1],wmax),\n",
    "    InputConstraint([0; -1],-wmin),\n",
    "    ObstacleAvoidance(H_list[1],c_list[1]),\n",
    "    ObstacleAvoidance(H_list[2],c_list[2])\n",
    "    ]"
   ]
  },
  {
   "cell_type": "code",
   "execution_count": null,
   "metadata": {},
   "outputs": [],
   "source": [
    "p2 = Plots.plot(; size=(500,500))\n",
    "plot!(xnom[1,:],xnom[2,:],c=:deepskyblue3,linestyle=:dash,linewidth=1.5,label=nothing)\n",
    "scatter!(xnom[1,:],xnom[2,:],c=:deepskyblue3,linewidth=1.5,label=nothing)\n",
    "for (idx,(ce, H)) in enumerate(zip(c_list, H_list))\n",
    "    label = nothing\n",
    "    if idx == 1\n",
    "        label = \"obstacle\"\n",
    "    end\n",
    "    plot_ellipse(p2,inv(H)*inv(H),ce,\"red3\",label=label)\n",
    "end\n",
    "annotate!(0.2, 0.5, text(\"Initial\", :black, :center))\n",
    "annotate!(4.8, 4.5, text(\"Final\", :black, :center))\n",
    "display(p2)\n",
    "# savefig(\"./data_image/nominal_trajectory_unicycle.pdf\")\n"
   ]
  },
  {
   "cell_type": "code",
   "execution_count": null,
   "metadata": {},
   "outputs": [],
   "source": [
    "# dynamics.β .= [vmax,1.0,vmax,1.0]\n",
    "dynamics.β .= [2.0,2.0]\n",
    "# dynamics.β .= [2*sqrt(2)]\n",
    "println(dynamics.β)\n",
    "θ0 = 1.0"
   ]
  },
  {
   "cell_type": "code",
   "execution_count": null,
   "metadata": {},
   "outputs": [],
   "source": [
    "Qnom = zeros(ix,ix,N+1)\n",
    "Ynom = zeros(iu,ix,N+1)\n",
    "Snom = zeros(iu,iu,N+1)\n",
    "Znom = zeros(ix,ix,N+1);\n",
    "Qini = diagm([0.08,0.08,0.06])\n",
    "Qf = diagm([0.08,0.08,0.06])"
   ]
  },
  {
   "cell_type": "code",
   "execution_count": null,
   "metadata": {},
   "outputs": [],
   "source": [
    "xmin = [0;0;0];\n",
    "xmax = [5;5;pi];\n",
    "umin = [0;0];\n",
    "umax = [vmax;wmax];\n",
    "scaler = Scaling(xmin, xmax, umin, umax, tnom[end],0,0)"
   ]
  },
  {
   "cell_type": "code",
   "execution_count": null,
   "metadata": {},
   "outputs": [],
   "source": [
    "include(\"./funlopt/funl_synthesis.jl\")"
   ]
  },
  {
   "cell_type": "code",
   "execution_count": null,
   "metadata": {},
   "outputs": [],
   "source": [
    "max_iter = 1;\n",
    "w_funl = 1.0;\n",
    "w_vc = 1e2;\n",
    "w_tr::Float64 = 0.00\n",
    "tol_vc = 1e-6;\n",
    "tol_tr = 1e-5;\n",
    "tol_dyn = 1e-1;\n",
    "verbosity = true;"
   ]
  },
  {
   "cell_type": "code",
   "execution_count": null,
   "metadata": {},
   "outputs": [],
   "source": [
    "fs = FunnelSynthesis(N,max_iter,dynamics,DLMI,list_const,scaler,\n",
    "    w_funl,w_vc,w_tr,tol_tr,tol_vc,tol_dyn,verbosity,\n",
    "    flag_type=\"Lsmooth\")"
   ]
  },
  {
   "cell_type": "code",
   "execution_count": null,
   "metadata": {},
   "outputs": [],
   "source": [
    "run(fs,Qnom,Ynom,Znom,Qini,Qf,xnom,unom,dtnom,\"Mosek\",θ0)\n",
    "# run(fs,Qnom,Ynom,Znom,Qini,Qf,xnom,unom,dtnom,\"Clarabel\",θ0)"
   ]
  },
  {
   "cell_type": "code",
   "execution_count": null,
   "metadata": {},
   "outputs": [],
   "source": [
    "tprop,xprop,uprop = fs.solution.tprop,fs.solution.xprop,fs.solution.uprop\n",
    "Qprop,Yprop,Zprop = fs.solution.Qprop,fs.solution.Yprop,fs.solution.Zprop"
   ]
  },
  {
   "cell_type": "code",
   "execution_count": null,
   "metadata": {},
   "outputs": [],
   "source": [
    "using Interpolations\n",
    "fit_b = LinearInterpolation(tnom, fs.solution.b,extrapolation_bc=Flat());\n",
    "bprop = fit_b(tprop);"
   ]
  },
  {
   "cell_type": "code",
   "execution_count": null,
   "metadata": {},
   "outputs": [],
   "source": [
    "radius_Q,angle_Q = get_radius_angle_Ellipse2D(fs.solution.Q)\n",
    "radius_Qi,angle_Qi = get_radius_angle_Ellipse2D(fs.solution.Qi)\n",
    "radius_Qf,angle_Qf = get_radius_angle_Ellipse2D(fs.solution.Qf)"
   ]
  },
  {
   "cell_type": "code",
   "execution_count": null,
   "metadata": {},
   "outputs": [],
   "source": [
    "# using Plots\n",
    "# function plot_ellipse(plot,Q::Matrix,xbar::Vector,color;label=nothing)\n",
    "#     θ = range(0, 2pi + 0.05; step = 0.05)\n",
    "#     x_y = √Q[1:2,1:2] * hcat(cos.(θ), sin.(θ))' .+ xbar[1:2]\n",
    "#     plot!(plot, x_y[1, :], x_y[2, :], c = color,linewidth=2,label=label)\n",
    "#     plot!(plot, x_y[1, :], x_y[2, :], label = nothing,fill=true, fillcolor=color,alpha=0.3)\n",
    "#     plot!(legendfontsize=12)\n",
    "# end"
   ]
  },
  {
   "cell_type": "code",
   "execution_count": null,
   "metadata": {},
   "outputs": [],
   "source": [
    "p2 = Plots.plot(; size=(500,500))\n",
    "plot!(xnom[1,:],xnom[2,:],c=:deepskyblue3,linestyle=:dash,linewidth=1.5,label=nothing)\n",
    "for idx in 1:N\n",
    "    label = nothing\n",
    "    if idx == 1\n",
    "        label = \"funnel\"\n",
    "    end\n",
    "    plot_ellipse(p2,fs.solution.Q[:,:,idx],xnom[:,idx],\"deepskyblue3\",label=label)\n",
    "end\n",
    "plot_ellipse(p2,fs.solution.Qi,xnom[:,1],\"green3\",label=\"initial and final\")\n",
    "plot_ellipse(p2,fs.solution.Qf,xnom[:,end],\"green3\")\n",
    "for (idx,(ce, H)) in enumerate(zip(c_list, H_list))\n",
    "    label = nothing\n",
    "    if idx == 1\n",
    "        label = \"obstacle\"\n",
    "    end\n",
    "    plot_ellipse(p2,inv(H)*inv(H),ce,\"red3\",label=label)\n",
    "end\n",
    "display(p2)\n",
    "savefig(\"./data_image/funnel_unicycle.pdf\")"
   ]
  },
  {
   "cell_type": "markdown",
   "metadata": {},
   "source": [
    "# estimate β"
   ]
  },
  {
   "cell_type": "code",
   "execution_count": null,
   "metadata": {},
   "outputs": [],
   "source": [
    "using Distributions, Random"
   ]
  },
  {
   "cell_type": "code",
   "execution_count": null,
   "metadata": {},
   "outputs": [],
   "source": [
    "J_estimation = zeros(fs.dynamics.iψ,N+1)\n",
    "for idx in 1:N+1\n",
    "    num_sample = 100\n",
    "    J_sample = zeros(fs.dynamics.iψ,num_sample)\n",
    "    for j in 1:num_sample\n",
    "        # sample\n",
    "        sqrt_Q = sqrt(fs.solution.Q[:,:,idx])\n",
    "        K = fs.solution.Y[:,:,idx] * inv(fs.solution.Q[:,:,idx])\n",
    "        z = randn(ix)\n",
    "        z .= z / norm(z)\n",
    "        η = sqrt_Q * z\n",
    "        x_ = xnom[:,idx] + η\n",
    "        ξ = K * η\n",
    "        u_ = unom[:,idx] + ξ\n",
    "        A,B = diff(fs.dynamics,xnom[:,idx],unom[:,idx])\n",
    "        f = forward(fs.dynamics,xnom[:,idx],unom[:,idx])\n",
    "        fnext = forward(fs.dynamics,x_,u_)\n",
    "        eta_dot = fnext - f\n",
    "        LHS = eta_dot - A*η - B*ξ\n",
    "        mu = fs.dynamics.Cμ * η + fs.dynamics.Dμu * ξ\n",
    "\n",
    "        model = Model(Mosek.Optimizer)\n",
    "        set_optimizer_attribute(model, \"MSK_IPAR_LOG\", 0) # Turn off verbosity for Mosek\n",
    "\n",
    "        # @variable(model,J[1:fs.dynamics.iψ])\n",
    "        # @variable(model,norm_J)\n",
    "        # @constraint(model, [norm_J; J] in SecondOrderCone())\n",
    "        # @constraint(model, LHS == fs.dynamics.G * diagm(J) * mu)\n",
    "\n",
    "        @variable(model,J[1:fs.dynamics.iψ,1:fs.dynamics.iμ])\n",
    "        @variable(model,norm_J)\n",
    "        @constraint(model, [norm_J; vec(J)] in SecondOrderCone())\n",
    "        @constraint(model, LHS == fs.dynamics.G * J * mu)\n",
    "\n",
    "        @objective(model,Min,norm_J)\n",
    "        optimize!(model)\n",
    "        for i in 1:fs.dynamics.iψ\n",
    "            J_sample[i,j] = norm(value.(J[i,:]))\n",
    "        end\n",
    "        # println(eta_dot)\n",
    "        # println(LHS)\n",
    "        # println(mu)\n",
    "        # println(value.(J))\n",
    "    end\n",
    "    J_estimation[:,idx] .= maximum(J_sample,dims = 2)\n",
    "end"
   ]
  },
  {
   "cell_type": "code",
   "execution_count": null,
   "metadata": {},
   "outputs": [],
   "source": [
    "J_result = zeros(fs.dynamics.iψ,N+1)\n",
    "for idx in 1:N+1\n",
    "    J_result[:,idx] .= fs.dynamics.β .* sqrt.(fs.solution.b[idx])\n",
    "end"
   ]
  },
  {
   "cell_type": "code",
   "execution_count": null,
   "metadata": {},
   "outputs": [],
   "source": [
    "p1 = plot(J_result[1,:])\n",
    "plot!(J_estimation[1,:])\n",
    "p2 = plot(J_result[2,:])\n",
    "plot!(J_estimation[2,:])\n",
    "plot(p1,p2,layout=(1,2))"
   ]
  },
  {
   "cell_type": "code",
   "execution_count": null,
   "metadata": {},
   "outputs": [],
   "source": [
    "# function get_β_unicycle(x,u)\n",
    "#     v1 = x[3]\n",
    "#     v2 = u[1]\n",
    "#     beta = zeros(4)\n",
    "#     beta[1] = sqrt((v2*cos(v1))^2 + sin(v1)^2)\n",
    "#     beta[2] = sqrt(sin(v1)^2)\n",
    "#     beta[3] = sqrt((v2*sin(v1))^2 + cos(v1)^2)\n",
    "#     beta[4] = sqrt(cos(v1)^2)\n",
    "#     return beta\n",
    "# end\n",
    "function get_β_unicycle(x,u)\n",
    "    v1 = x[3]\n",
    "    v2 = u[1]\n",
    "    beta = zeros(2)\n",
    "    beta[1] = sqrt((v2*cos(v1))^2 + 2*sin(v1)^2)\n",
    "    beta[2] = sqrt((v2*sin(v1))^2 + 2*cos(v1)^2)\n",
    "    return beta\n",
    "end\n"
   ]
  },
  {
   "cell_type": "code",
   "execution_count": null,
   "metadata": {},
   "outputs": [],
   "source": [
    "idx = 1\n",
    "num_sample = 100\n",
    "β_estimation = zeros(fs.dynamics.iψ,N+1)\n",
    "v_estimation = zeros(N+1)\n",
    "for idx in 1:N+1\n",
    "    β_sample = zeros(fs.dynamics.iψ,num_sample)\n",
    "    v_sample = zeros(num_sample)\n",
    "    for j in 1:num_sample\n",
    "        sqrt_Q = sqrt(fs.solution.Q[:,:,idx])\n",
    "        K = fs.solution.Y[:,:,idx] * inv(fs.solution.Q[:,:,idx])\n",
    "        z = randn(ix)\n",
    "        z .= z / norm(z)\n",
    "        η = sqrt_Q * z\n",
    "        x_ = xnom[:,idx] + η\n",
    "        ξ = K * η\n",
    "        u_ = unom[:,idx] + ξ\n",
    "        v = [x_[3];u_[1]]\n",
    "        vbar = [xnom[3,idx];unom[1,idx]]\n",
    "        v_sample[j] = norm(v-vbar)\n",
    "        β_sample[:,j] .= get_β_unicycle(x_,u_)\n",
    "    end\n",
    "    β_estimation[:,idx] .= maximum(β_sample,dims = 2)\n",
    "    v_estimation[idx] = maximum(v_sample)\n",
    "end"
   ]
  },
  {
   "cell_type": "code",
   "execution_count": null,
   "metadata": {},
   "outputs": [],
   "source": [
    "β_estimation"
   ]
  },
  {
   "cell_type": "code",
   "execution_count": null,
   "metadata": {},
   "outputs": [],
   "source": [
    "maximum(β_estimation,dims=2)"
   ]
  },
  {
   "cell_type": "code",
   "execution_count": null,
   "metadata": {},
   "outputs": [],
   "source": [
    "maximum(abs.(sqrt.(fs.solution.b) .- v_estimation))"
   ]
  },
  {
   "cell_type": "markdown",
   "metadata": {},
   "source": [
    "## Check eigenvalue of Q"
   ]
  },
  {
   "cell_type": "code",
   "execution_count": null,
   "metadata": {},
   "outputs": [],
   "source": [
    "min_lam_qprop = zeros(size(Qprop,3))\n",
    "for i in 1:size(Qprop,3)\n",
    "    eigvals = eigen(Qprop[:,:,i]).values\n",
    "    min_lam_qprop[i] = eigvals[1]\n",
    "end\n",
    "min_lam_q = zeros(size(fs.solution.Q,3))\n",
    "for i in 1:size(fs.solution.Q,3)\n",
    "    eigvals = eigen(fs.solution.Q[:,:,i]).values\n",
    "    min_lam_q[i] = eigvals[1]\n",
    "end"
   ]
  },
  {
   "cell_type": "code",
   "execution_count": null,
   "metadata": {},
   "outputs": [],
   "source": [
    "scatter(tnom,min_lam_q,seriestype=\"o\")\n",
    "plot!(tprop,min_lam_qprop)\n",
    "plot!(tnom,tnom .* 0,linestyle=:dash)"
   ]
  },
  {
   "cell_type": "code",
   "execution_count": null,
   "metadata": {},
   "outputs": [],
   "source": [
    "findfirst(x -> x < 0, min_lam_q)"
   ]
  },
  {
   "cell_type": "markdown",
   "metadata": {},
   "source": [
    "## Check eigenvalue of Block DLMI"
   ]
  },
  {
   "cell_type": "code",
   "execution_count": null,
   "metadata": {},
   "outputs": [],
   "source": [
    "θ = θ0[1]\n",
    "fs.dynamics.β\n",
    "iψ = fs.dynamics.iψ\n",
    "iμ = fs.dynamics.iμ"
   ]
  },
  {
   "cell_type": "code",
   "execution_count": null,
   "metadata": {},
   "outputs": [],
   "source": [
    "# function get_H(fs,Qprop,Yprop,Zprop,bprop,θ)\n",
    "#     N11 =  I(fs.dynamics.iμ) .* (θ ./ ( fs.dynamics.β .* fs.dynamics.β))\n",
    "#     N22 =  bprop .* θ .* I(fs.dynamics.iψ)\n",
    "#     LMI11 = -Zprop\n",
    "#     LMI21 = N22 * fs.dynamics.G'\n",
    "#     LMI22 = -N22\n",
    "#     LMI31 = fs.dynamics.Cμ * Qprop + fs.dynamics.Dμu * Yprop\n",
    "#     LMI32 = zeros(fs.dynamics.iμ,fs.dynamics.iψ)\n",
    "#     LMI33 = -N11\n",
    "#     return [LMI11 LMI21' LMI31';\n",
    "#         LMI21 LMI22 LMI32';\n",
    "#         LMI31 LMI32 LMI33\n",
    "#     ]\n",
    "# end\n",
    "function get_H_(fs,Qprop,Yprop,Zprop,bprop,xprop,uprop)\n",
    "    θ = θ0\n",
    "    Aprop,Bprop = diff(fs.dynamics,xprop,uprop)\n",
    "    N11 =  I(fs.dynamics.iμ) .* (θ ./ ( fs.dynamics.β .* fs.dynamics.β))\n",
    "    N22 =  bprop .* θ .* I(fs.dynamics.iψ)\n",
    "    LMI11 = Aprop*Qprop + Qprop*Aprop' + Bprop*Yprop + Yprop'*Bprop' + fs.funl_dynamics.alpha * Qprop - Zprop\n",
    "    LMI21 = N22 * fs.dynamics.G'\n",
    "    LMI22 = -N22\n",
    "    LMI31 = fs.dynamics.Cμ * Qprop + fs.dynamics.Dμu * Yprop\n",
    "    LMI32 = zeros(fs.dynamics.iμ,fs.dynamics.iψ)\n",
    "    LMI33 = -N11\n",
    "    return [LMI11 LMI21' LMI31';\n",
    "        LMI21 LMI22 LMI32';\n",
    "        LMI31 LMI32 LMI33\n",
    "    ]\n",
    "end\n",
    "Hprop = zeros(ix+iψ+iμ,ix+iψ+iμ,length(tprop))\n",
    "H = zeros(ix+iψ+iμ,ix+iψ+iμ,length(tnom))\n",
    "for i in 1:length(tprop)\n",
    "    Hprop[:,:,i] .= get_H_(fs,Qprop[:,:,i],Yprop[:,:,i],Zprop[:,:,i],bprop[i],xprop[:,i],uprop[:,i])\n",
    "end\n",
    "for i in 1:length(tnom)\n",
    "    H[:,:,i] .= get_H_(fs,fs.solution.Q[:,:,i],fs.solution.Y[:,:,i],fs.solution.Z[:,:,i],fs.solution.b[i],xnom[:,i],unom[:,i])\n",
    "end"
   ]
  },
  {
   "cell_type": "code",
   "execution_count": null,
   "metadata": {},
   "outputs": [],
   "source": [
    "max_lam_Hprop = zeros(size(Hprop,3))\n",
    "for i in 1:size(Qprop,3)\n",
    "    eig_vals = eigen(Hprop[:,:,i]).values\n",
    "    if i == 1\n",
    "        println(eig_vals)\n",
    "    end\n",
    "    max_lam_Hprop[i] = eig_vals[end]\n",
    "end\n",
    "max_lam_H = zeros(size(H,3))\n",
    "for i in 1:size(H,3)\n",
    "    eig_vals = eigen(H[:,:,i]).values\n",
    "    if i == 1\n",
    "        println(eig_vals)\n",
    "    end\n",
    "    max_lam_H[i] = eig_vals[end]\n",
    "end"
   ]
  },
  {
   "cell_type": "code",
   "execution_count": null,
   "metadata": {},
   "outputs": [],
   "source": [
    "plt.figure(figsize=(10,3))\n",
    "plt.plot(tprop,max_lam_Hprop,\"-\",color=\"tab:blue\")\n",
    "plt.plot(tnom,max_lam_H,\"o\",color=\"tab:blue\")\n",
    "plt.plot(tprop,tprop*0,\"--\",color=\"tab:red\")\n",
    "gcf()"
   ]
  },
  {
   "cell_type": "code",
   "execution_count": null,
   "metadata": {},
   "outputs": [],
   "source": [
    "plt.figure()\n",
    "plt.plot(tprop,Zprop[1,1,:])\n",
    "plt.plot(tnom,fs.solution.Z[1,1,:],\"o\")\n",
    "gcf()"
   ]
  },
  {
   "cell_type": "code",
   "execution_count": null,
   "metadata": {},
   "outputs": [],
   "source": [
    "function project_onto_input(Q,Y) \n",
    "    R = []\n",
    "    for i in 1:size(Q,3)\n",
    "        K = Y[:,:,i] * inv(Q[:,:,i])\n",
    "        push!(R,K*Q[:,:,i]*K')\n",
    "    end\n",
    "    projected_input_funl = []\n",
    "    for j in 1:iu\n",
    "        a = zeros(iu)\n",
    "        a[j] = 1\n",
    "        each_funl = []\n",
    "        for i in 1:length(R)\n",
    "            push!(each_funl,sqrt(a'*R[i]*a))\n",
    "        end\n",
    "        push!(projected_input_funl,each_funl)\n",
    "    end\n",
    "    return projected_input_funl\n",
    "end"
   ]
  },
  {
   "cell_type": "code",
   "execution_count": null,
   "metadata": {},
   "outputs": [],
   "source": [
    "input_proj_funl_nom = project_onto_input(fs.solution.Q,fs.solution.Y)\n",
    "input_proj_funl_prop = project_onto_input(Qprop,Yprop)"
   ]
  },
  {
   "cell_type": "code",
   "execution_count": null,
   "metadata": {},
   "outputs": [],
   "source": [
    "plt.figure(figsize=(10,3))\n",
    "plt.subplot(121)\n",
    "plt.plot(tnom,unom[1,:],\"--\",color=\"black\")\n",
    "plt.plot(tnom,unom[1,:]+input_proj_funl_nom[1],\"o\",color=\"tab:blue\")\n",
    "plt.plot(tnom,unom[1,:]-input_proj_funl_nom[1],\"o\",color=\"tab:blue\")\n",
    "plt.plot(tprop,uprop[1,:]+input_proj_funl_prop[1],\"-\",color=\"tab:blue\")\n",
    "plt.plot(tprop,uprop[1,:]-input_proj_funl_prop[1],\"-\",color=\"tab:blue\")\n",
    "plt.plot(tnom,tnom*0 .+ vmax,\"--\",color=\"tab:red\")\n",
    "plt.plot(tnom,tnom*0 .+ vmin,\"--\",color=\"tab:red\")\n",
    "# plt.ylim([-0.1,2.1])\n",
    "plt.grid(true)\n",
    "plt.subplot(122)\n",
    "plt.plot(tnom,unom[2,:],\"--\",color=\"black\")\n",
    "plt.plot(tnom,unom[2,:]+input_proj_funl_nom[2],\"o\",color=\"tab:blue\")\n",
    "plt.plot(tnom,unom[2,:]-input_proj_funl_nom[2],\"o\",color=\"tab:blue\")\n",
    "plt.plot(tprop,uprop[2,:]+input_proj_funl_prop[2],\"-\",color=\"tab:blue\")\n",
    "plt.plot(tprop,uprop[2,:]-input_proj_funl_prop[2],\"-\",color=\"tab:blue\")\n",
    "plt.plot(tnom,tnom*0 .+ wmax,\"--\",color=\"tab:red\")\n",
    "plt.plot(tnom,tnom*0 .+ wmin,\"--\",color=\"tab:red\")\n",
    "# plt.ylim([-2.5,2.5])\n",
    "plt.grid(true)\n",
    "gcf()"
   ]
  },
  {
   "cell_type": "code",
   "execution_count": null,
   "metadata": {},
   "outputs": [],
   "source": [
    "# my_dict = Dict(\"x\" => xnom, \"u\" => unom, \"t\" => tnom,\n",
    "#      \"Q\" => fs.solution.Q, \"Y\" => fs.solution.Y, \"Z\" => fs.solution.Z)\n",
    "# using JLD2, FileIO\n",
    "\n",
    "# @save \"./data/unicycle_ICV_0408\" my_dict"
   ]
  },
  {
   "cell_type": "markdown",
   "metadata": {},
   "source": [
    "# Get samples"
   ]
  },
  {
   "cell_type": "code",
   "execution_count": null,
   "metadata": {},
   "outputs": [],
   "source": [
    "using Random\n",
    "using LinearAlgebra"
   ]
  },
  {
   "cell_type": "code",
   "execution_count": null,
   "metadata": {},
   "outputs": [],
   "source": [
    "xs_list = []\n",
    "for i in 1:100\n",
    "    z = randn(ix)\n",
    "    z = z / norm(z)\n",
    "    push!(xs_list,xnom[:,1] + sqrt(fs.solution.Q[:,:,1]) * z)\n",
    "end"
   ]
  },
  {
   "cell_type": "code",
   "execution_count": null,
   "metadata": {},
   "outputs": [],
   "source": [
    "xsam_fwd,tsam,xsam,usam = [],[],[],[]\n",
    "for xs in xs_list\n",
    "    xf_,ts_,xsam_,usam_ = propagate_from_funnel_entry(xs,DLMI,dynamics,xnom,unom,dtnom,\n",
    "        fs.solution.Q,fs.solution.Y,fs.solution.Z)\n",
    "    push!(xsam_fwd,xf_)\n",
    "    push!(tsam,ts_)\n",
    "    push!(xsam,xsam_)\n",
    "    push!(usam,usam_)\n",
    "end"
   ]
  },
  {
   "cell_type": "code",
   "execution_count": null,
   "metadata": {},
   "outputs": [],
   "source": [
    "p2 = Plots.plot(; size=(500,500))\n",
    "plot!(xnom[1,:],xnom[2,:],c=:deepskyblue3,linestyle=:dash,linewidth=1.5,label=nothing)\n",
    "for idx in 1:N\n",
    "    label = nothing\n",
    "    if idx == 1\n",
    "        label = \"funnel\"\n",
    "    end\n",
    "    plot_ellipse(p2,fs.solution.Q[:,:,idx],xnom[:,idx],\"deepskyblue3\",label=label)\n",
    "end\n",
    "plot_ellipse(p2,fs.solution.Qi,xnom[:,1],\"green3\",label=\"initial and final\")\n",
    "plot_ellipse(p2,fs.solution.Qf,xnom[:,end],\"green3\")\n",
    "for (idx,(ce, H)) in enumerate(zip(c_list, H_list))\n",
    "    label = nothing\n",
    "    if idx == 1\n",
    "        label = \"obstacle\"\n",
    "    end\n",
    "    plot_ellipse(p2,inv(H)*inv(H),ce,\"red3\",label=label)\n",
    "end\n",
    "for x_ in xsam\n",
    "    plot!(x_[1,:],x_[2,:],color=\"purple\",label=nothing)\n",
    "end\n",
    "display(p2)\n",
    "savefig(\"./data_image/funnel_unicycle_samples.pdf\")"
   ]
  },
  {
   "cell_type": "code",
   "execution_count": null,
   "metadata": {},
   "outputs": [],
   "source": []
  }
 ],
 "metadata": {
  "kernelspec": {
   "display_name": "Julia 1.9.4",
   "language": "julia",
   "name": "julia-1.9"
  },
  "language_info": {
   "file_extension": ".jl",
   "mimetype": "application/julia",
   "name": "julia",
   "version": "1.9.4"
  }
 },
 "nbformat": 4,
 "nbformat_minor": 2
}
