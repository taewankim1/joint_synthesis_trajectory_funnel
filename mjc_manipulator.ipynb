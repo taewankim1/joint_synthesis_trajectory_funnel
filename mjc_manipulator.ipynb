{
 "cells": [
  {
   "cell_type": "code",
   "execution_count": null,
   "metadata": {},
   "outputs": [],
   "source": [
    "include(\"./trajopt/utils.jl\")\n",
    "include(\"./trajopt/dynamics.jl\")\n",
    "include(\"./funlopt/funl_dynamics.jl\")\n",
    "include(\"./funlopt/funl_utils.jl\")\n",
    "include(\"./funlopt/funl_synthesis.jl\")\n",
    "include(\"./funlopt/funl_constraint.jl\")\n",
    "include(\"./trajopt/scaling.jl\")\n",
    "using Plots\n",
    "using Random"
   ]
  },
  {
   "cell_type": "code",
   "execution_count": null,
   "metadata": {},
   "outputs": [],
   "source": [
    "using MuJoCo\n",
    "import MuJoCo: step! as mj_step\n",
    "using Interpolations\n",
    "using MatrixEquations"
   ]
  },
  {
   "cell_type": "code",
   "execution_count": null,
   "metadata": {},
   "outputs": [],
   "source": [
    "# load nominal trajectory\n",
    "using JLD2, FileIO\n",
    "@load \"./data/funl_mani_0710\" my_dict\n",
    "x = my_dict[\"x\"]\n",
    "u = my_dict[\"u\"]\n",
    "t = my_dict[\"t\"];\n",
    "Q = my_dict[\"Q\"];\n",
    "Y = my_dict[\"Y\"];\n",
    "Z = my_dict[\"Z\"];\n",
    "alpha = my_dict[\"alpha\"]\n",
    "N = size(x,2) - 1\n",
    "dt = zeros(N)\n",
    "for i in 1:N\n",
    "    dt[i] = t[i+1]-t[i]\n",
    "end"
   ]
  },
  {
   "cell_type": "code",
   "execution_count": null,
   "metadata": {},
   "outputs": [],
   "source": [
    "g = 9.81\n",
    "dynamics = ThreeDOFManipulatorDynamics(g)\n",
    "ix = dynamics.ix\n",
    "iu = dynamics.iu\n",
    "DLMI = LinearFOH(alpha,ix,iu)\n",
    "uf = [44.145;19.62;4.905]\n",
    "\n",
    "model = load_model(\"./xmls/triplependulum.xml\")\n",
    "data = init_data(model)"
   ]
  },
  {
   "cell_type": "code",
   "execution_count": null,
   "metadata": {},
   "outputs": [],
   "source": [
    "# LQR control for final\n",
    "ϵ = 1e-6\n",
    "centred = true\n",
    "A = mj_zeros(ix, ix)\n",
    "B = mj_zeros(ix, iu)\n",
    "data.ctrl .= uf\n",
    "mjd_transitionFD(model, data, ϵ, centred, A, B, nothing, nothing)\n",
    "# @show A, B\n",
    "Qcost = diagm([200, 200, 200, 40, 40 ,40]) # Weights for the state vector\n",
    "Rcost = diagm([1,1,1])           # Weights for the controls\n",
    "Scost = zeros(ix, iu)\n",
    "_, _, Kf, _ = ared(A,B,Rcost,Qcost,Scost)\n",
    "println(Kf)"
   ]
  },
  {
   "cell_type": "code",
   "execution_count": null,
   "metadata": {},
   "outputs": [],
   "source": [
    "dt_control = model.opt.timestep\n",
    "sim_time = 3.0\n",
    "t_ctrl = range(0,sim_time,step=dt_control)"
   ]
  },
  {
   "cell_type": "code",
   "execution_count": null,
   "metadata": {},
   "outputs": [],
   "source": [
    "x_ctrl = zeros(ix,length(t_ctrl))\n",
    "for idx in 1:ix\n",
    "    x_fit = LinearInterpolation(t, x[idx,:],extrapolation_bc=Flat());\n",
    "    x_ctrl[idx,:] .= x_fit(t_ctrl)\n",
    "end\n",
    "u_ctrl = zeros(iu,length(t_ctrl))\n",
    "for idx in 1:iu\n",
    "    u_fit = LinearInterpolation(t, u[idx,:],extrapolation_bc=Flat());\n",
    "    u_ctrl[idx,:] .= u_fit(t_ctrl)\n",
    "end\n",
    "Q_ctrl = zeros(ix,ix,length(t_ctrl))\n",
    "Y_ctrl = zeros(iu,ix,length(t_ctrl))\n",
    "for i in 1:ix\n",
    "    for j in 1:ix\n",
    "        Q_fit = LinearInterpolation(t, Q[i,j,:],extrapolation_bc=Flat());\n",
    "        Q_ctrl[i,j,:] .= Q_fit(t_ctrl)\n",
    "    end\n",
    "    for j in 1:iu\n",
    "        Y_fit = LinearInterpolation(t, Y[j,i,:],extrapolation_bc=Flat());\n",
    "        Y_ctrl[j,i,:] .= Y_fit(t_ctrl)\n",
    "    end\n",
    "end"
   ]
  },
  {
   "cell_type": "code",
   "execution_count": null,
   "metadata": {},
   "outputs": [],
   "source": [
    "xs_list = []\n",
    "for i in 1:5\n",
    "    z = randn(ix)\n",
    "    z = z / norm(z) * 0.5\n",
    "    push!(xs_list,x[:,1] + sqrt(Q[:,:,1]) * z)\n",
    "end"
   ]
  },
  {
   "cell_type": "code",
   "execution_count": null,
   "metadata": {},
   "outputs": [],
   "source": [
    "ctrl_trajectories = []\n",
    "for (idx_s,xs) in enumerate(xs_list)\n",
    "    reset!(model,data)\n",
    "    A = mj_zeros(model.nq + model.nv + model.na)\n",
    "    A[1,:] .= xs\n",
    "    set_physics_state!(model,data,A')\n",
    "    forward!(model,data)\n",
    "    ctrl_states = zeros(6, length(t_ctrl))\n",
    "    for (idx,t_) in enumerate(t_ctrl)\n",
    "        @assert(isapprox(t_, data.time))\n",
    "        ctrl_states[:,idx] = get_physics_state(model, data)\n",
    "        Q_ = Q_ctrl[:,:,idx]\n",
    "        Y_ = Y_ctrl[:,:,idx]\n",
    "        K_ = Y_ * inv(Q_)\n",
    "        if (t_ <= t[end])\n",
    "            data.ctrl .= u_ctrl[:,idx] + K_ * (ctrl_states[:,idx] - x_ctrl[:,idx])\n",
    "        else\n",
    "            data.ctrl .= uf - Kf * (ctrl_states[:,idx] - zeros(ix))\n",
    "        end\n",
    "        mj_step(model, data)\n",
    "    end\n",
    "    push!(ctrl_trajectories,ctrl_states)\n",
    "end"
   ]
  },
  {
   "cell_type": "code",
   "execution_count": null,
   "metadata": {},
   "outputs": [],
   "source": [
    "init_visualiser()\n",
    "visualise!(model, data, trajectories = [ctrl_trajectories[i] for i in 1:length(xs_list)])"
   ]
  },
  {
   "cell_type": "code",
   "execution_count": null,
   "metadata": {},
   "outputs": [],
   "source": [
    "reset!(model, data)\n",
    "\n",
    "# Propagate derived quantities\n",
    "mj_forward(model, data)\n",
    "# Set joint accelerations to 0\n",
    "data.qacc .= 0\n",
    "\n",
    "# Inspect forces from inverse dynamics\n",
    "mj_inverse(model, data)\n",
    "println(\"Required control: \", data.qfrc_inverse)"
   ]
  },
  {
   "cell_type": "code",
   "execution_count": null,
   "metadata": {},
   "outputs": [],
   "source": []
  }
 ],
 "metadata": {
  "kernelspec": {
   "display_name": "Julia 1.9.4",
   "language": "julia",
   "name": "julia-1.9"
  },
  "language_info": {
   "file_extension": ".jl",
   "mimetype": "application/julia",
   "name": "julia",
   "version": "1.9.4"
  }
 },
 "nbformat": 4,
 "nbformat_minor": 2
}
