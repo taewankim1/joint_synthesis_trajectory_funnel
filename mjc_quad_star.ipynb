{
 "cells": [
  {
   "cell_type": "code",
   "execution_count": 28,
   "metadata": {},
   "outputs": [],
   "source": [
    "include(\"./trajopt/utils.jl\")\n",
    "include(\"./trajopt/dynamics.jl\")\n",
    "include(\"./trajopt/constraint.jl\")\n",
    "include(\"./funlopt/funl_dynamics.jl\")\n",
    "include(\"./funlopt/funl_utils.jl\")\n",
    "include(\"./funlopt/funl_synthesis.jl\")\n",
    "include(\"./funlopt/funl_constraint.jl\")\n",
    "include(\"./trajopt/scaling.jl\")\n",
    "using Plots\n",
    "using Random"
   ]
  },
  {
   "cell_type": "code",
   "execution_count": 29,
   "metadata": {},
   "outputs": [],
   "source": [
    "using MuJoCo\n",
    "import MuJoCo: step! as mj_step\n",
    "using Interpolations\n",
    "using MatrixEquations"
   ]
  },
  {
   "cell_type": "code",
   "execution_count": 30,
   "metadata": {},
   "outputs": [],
   "source": [
    "# load nominal trajectory\n",
    "using JLD2, FileIO\n",
    "@load \"./data/funl_quad_star_0713\" my_dict\n",
    "x = my_dict[\"x\"]\n",
    "u = my_dict[\"u\"]\n",
    "t = my_dict[\"t\"];\n",
    "Q = my_dict[\"Q\"];\n",
    "Y = my_dict[\"Y\"];\n",
    "Z = my_dict[\"Z\"];\n",
    "alpha = my_dict[\"alpha\"]\n",
    "N = size(x,2) - 1\n",
    "dt = zeros(N)\n",
    "for i in 1:N\n",
    "    dt[i] = t[i+1]-t[i]\n",
    "end"
   ]
  },
  {
   "cell_type": "code",
   "execution_count": 42,
   "metadata": {},
   "outputs": [
    {
     "data": {
      "text/plain": [
       "MuJoCo Data object"
      ]
     },
     "metadata": {},
     "output_type": "display_data"
    }
   ],
   "source": [
    "dynamics = QuadrotorDynamics()\n",
    "ix = dynamics.ix\n",
    "iu = dynamics.iu\n",
    "DLMI = LinearFOH(alpha,ix,iu)\n",
    "# uf = [44.145;19.62;4.905]\n",
    "r = 5.0\n",
    "h = 5.0\n",
    "MP_const = QuadrotorMultiphaseConstraint(15,r,h)\n",
    "P1 = MP_const.P1\n",
    "P2 = MP_const.P2\n",
    "P3 = MP_const.P3\n",
    "P4 = MP_const.P4\n",
    "P5 = MP_const.P5\n",
    "\n",
    "model = load_model(\"./xmls/quadrotor_star.xml\")\n",
    "data = init_data(model)"
   ]
  },
  {
   "cell_type": "code",
   "execution_count": 43,
   "metadata": {},
   "outputs": [
    {
     "name": "stdout",
     "output_type": "stream",
     "text": [
      " __  __            _        _____       _ _ \n",
      "|  \\/  |          | |      / ____|     (_) |\n",
      "| \\  / |_   _     | | ___ | |     ___   _| |\n",
      "| |\\/| | | | |_   | |/ _ \\| |    / _ \\ | | |\n",
      "| |  | | |_| | |__| | (_) | |___| (_) || | |\n",
      "|_|  |_|\\__,_|\\____/ \\___/ \\_____\\___(_) |_|\n",
      "                                      _/ |  \n",
      "                                     |__/   \n",
      "\n",
      "Press \"F1\" to show the help message.\n"
     ]
    }
   ],
   "source": [
    "init_visualiser()\n",
    "visualise!(model, data)"
   ]
  },
  {
   "cell_type": "code",
   "execution_count": 44,
   "metadata": {},
   "outputs": [
    {
     "data": {
      "text/plain": [
       "0.0:0.005:60.0"
      ]
     },
     "metadata": {},
     "output_type": "display_data"
    }
   ],
   "source": [
    "dt_control = model.opt.timestep\n",
    "sim_time = 60.0\n",
    "t_ctrl = range(0,sim_time,step=dt_control)"
   ]
  },
  {
   "cell_type": "code",
   "execution_count": 45,
   "metadata": {},
   "outputs": [
    {
     "data": {
      "text/plain": [
       "get_Y_interp (generic function with 1 method)"
      ]
     },
     "metadata": {},
     "output_type": "display_data"
    }
   ],
   "source": [
    "x_fit = [LinearInterpolation(t, x[idx,:],extrapolation_bc=Flat()) for idx in 1:ix]\n",
    "u_fit = [LinearInterpolation(t, u[idx,:],extrapolation_bc=Flat()) for idx in 1:iu]\n",
    "Q_fit = [ [LinearInterpolation(t, Q[i,j,:], extrapolation_bc=Flat()) for j in 1:ix] for i in 1:ix ]\n",
    "Y_fit = [ [LinearInterpolation(t, Y[i,j,:], extrapolation_bc=Flat()) for j in 1:ix] for i in 1:iu ];\n",
    "function get_x_interp(t::Float64)\n",
    "    ans = zeros(ix)\n",
    "    for i in 1:ix\n",
    "        ans[i] = x_fit[i](t)\n",
    "    end\n",
    "    return ans\n",
    "end\n",
    "function get_u_interp(t::Float64)\n",
    "    ans = zeros(iu)\n",
    "    for i in 1:iu\n",
    "        ans[i] = u_fit[i](t)\n",
    "    end\n",
    "    return ans\n",
    "end\n",
    "function get_Q_interp(t::Float64)\n",
    "    new_Q_matrix = Array{Float64}(undef, ix, ix)\n",
    "    for i in 1:ix\n",
    "        for j in 1:ix\n",
    "            new_Q_matrix[i, j] = Q_fit[i][j](t)\n",
    "        end\n",
    "    end\n",
    "    return new_Q_matrix\n",
    "end\n",
    "function get_Y_interp(t::Float64)\n",
    "    new_Y_matrix = Array{Float64}(undef, iu, ix)\n",
    "    for i in 1:iu\n",
    "        for j in 1:ix\n",
    "            new_Y_matrix[i, j] = Y_fit[i][j](t)\n",
    "        end\n",
    "    end\n",
    "    return new_Y_matrix\n",
    "end"
   ]
  },
  {
   "cell_type": "code",
   "execution_count": 47,
   "metadata": {},
   "outputs": [
    {
     "data": {
      "text/plain": [
       "actuator_allocation (generic function with 1 method)"
      ]
     },
     "metadata": {},
     "output_type": "display_data"
    }
   ],
   "source": [
    "function euler_to_quaternion(attitude)\n",
    "    roll, pitch, yaw = attitude[1],attitude[2],attitude[3]\n",
    "    qx = sin(roll/2) * cos(pitch/2) * cos(yaw/2) - cos(roll/2) * sin(pitch/2) * sin(yaw/2)\n",
    "    qy = cos(roll/2) * sin(pitch/2) * cos(yaw/2) + sin(roll/2) * cos(pitch/2) * sin(yaw/2)\n",
    "    qz = cos(roll/2) * cos(pitch/2) * sin(yaw/2) - sin(roll/2) * sin(pitch/2) * cos(yaw/2)\n",
    "    qw = cos(roll/2) * cos(pitch/2) * cos(yaw/2) + sin(roll/2) * sin(pitch/2) * sin(yaw/2)\n",
    "    return [qw, qx, qy, qz]\n",
    "end\n",
    "function quaternion_to_euler(quat)\n",
    "    w,x,y,z = quat[1],quat[2],quat[3],quat[4]\n",
    "    t0 = +2.0 * (w * x + y * z)\n",
    "    t1 = +1.0 - 2.0 * (x * x + y * y)\n",
    "    roll_x = atan(t0, t1)\n",
    "    \n",
    "    t2 = +2.0 * (w * y - z * x)\n",
    "    t2 = t2 > 1.0 ? 1.0 : t2\n",
    "    t2 = t2 < -1.0 ? -1.0 : t2\n",
    "    pitch_y = asin(t2)\n",
    "    \n",
    "    t3 = +2.0 * (w * z + x * y)\n",
    "    t4 = +1.0 - 2.0 * (y * y + z * z)\n",
    "    yaw_z = atan(t3, t4)\n",
    "    \n",
    "    return [roll_x, pitch_y, yaw_z]\n",
    "end\n",
    "function mujocos_to_s(state)\n",
    "    ans = zeros(ix)\n",
    "    ans[1:3] .= state[1:3]\n",
    "    ans[4:6] .= state[8:10]\n",
    "    ans[7:9] .= quaternion_to_euler(state[4:7])\n",
    "    ans[10:12] .= state[11:13]\n",
    "    return ans\n",
    "end\n",
    "function s_to_mujocos(state)\n",
    "    ans = zeros(ix+1)\n",
    "    ans[1:3] .= state[1:3]\n",
    "    ans[4:7] .= euler_to_quaternion(state[7:9])\n",
    "    ans[8:10] .= state[4:6]\n",
    "    ans[11:13] .= state[10:12]\n",
    "    return ans\n",
    "end\n",
    "dx = 0.14\n",
    "dy = 0.18\n",
    "c = 0.0201\n",
    "N = [1 1 1 1;-dy dy dy -dy;dx dx -dx -dx;-c c -c c]\n",
    "N_inv = inv(N)\n",
    "function actuator_allocation(u::Vector)\n",
    "    return N_inv * u\n",
    "end"
   ]
  },
  {
   "cell_type": "code",
   "execution_count": 50,
   "metadata": {},
   "outputs": [],
   "source": [
    "xs_list = []\n",
    "for i in 1:5\n",
    "    z = randn(ix)\n",
    "    z = z / norm(z)\n",
    "    push!(xs_list,x[:,1] + sqrt(Q[:,:,1]) * z)\n",
    "end"
   ]
  },
  {
   "cell_type": "code",
   "execution_count": 51,
   "metadata": {},
   "outputs": [],
   "source": [
    "ctrl_trajectories = []\n",
    "for (idx_s,xs) in enumerate(xs_list)\n",
    "    reset!(model,data)\n",
    "    A = mj_zeros(model.nq + model.nv + model.na)\n",
    "    A[1,:] .= s_to_mujocos(xs)\n",
    "    set_physics_state!(model,data,A')\n",
    "    forward!(model,data)\n",
    "    ctrl_states = zeros(13, length(t_ctrl))\n",
    "    for (idx,t_) in enumerate(t_ctrl)\n",
    "        @assert(isapprox(t_, data.time))\n",
    "        ctrl_states[:,idx] = get_physics_state(model, data)\n",
    "        ctrl_state_euler = mujocos_to_s(ctrl_states[:,idx])\n",
    "        t_lap = t_ % t[end]\n",
    "\n",
    "        Q_ = get_Q_interp(t_lap)\n",
    "        Y_ = get_Y_interp(t_lap)\n",
    "        K_ = Y_ * inv(Q_)\n",
    "        x_ = get_x_interp(t_lap)\n",
    "        u_ = get_u_interp(t_lap)\n",
    "\n",
    "        u_ctrl = u_ + K_ * (ctrl_state_euler - x_)\n",
    "        data.ctrl .= actuator_allocation(u_ctrl)\n",
    "        mj_step(model, data)\n",
    "    end\n",
    "    push!(ctrl_trajectories,ctrl_states)\n",
    "end"
   ]
  },
  {
   "cell_type": "code",
   "execution_count": 52,
   "metadata": {},
   "outputs": [
    {
     "name": "stdout",
     "output_type": "stream",
     "text": [
      " __  __            _        _____       _ _ \n",
      "|  \\/  |          | |      / ____|     (_) |\n",
      "| \\  / |_   _     | | ___ | |     ___   _| |\n",
      "| |\\/| | | | |_   | |/ _ \\| |    / _ \\ | | |\n",
      "| |  | | |_| | |__| | (_) | |___| (_) || | |\n",
      "|_|  |_|\\__,_|\\____/ \\___/ \\_____\\___(_) |_|\n",
      "                                      _/ |  \n",
      "                                     |__/   \n",
      "\n",
      "Press \"F1\" to show the help message.\n"
     ]
    },
    {
     "name": "stderr",
     "output_type": "stream",
     "text": [
      "┌ Info: Recording video. Window resizing temporarily disabled\n",
      "└ @ VisualiserExt /Users/taewankim/.julia/packages/MuJoCo/Ge60F/ext/VisualiserExt/functions.jl:186\n",
      "┌ Info: Recording finished, window resizing re-enabled. Waiting for transcoding to finish.\n",
      "└ @ VisualiserExt /Users/taewankim/.julia/packages/MuJoCo/Ge60F/ext/VisualiserExt/functions.jl:200\n",
      "┌ Info: Finished recording! Video saved to /Users/taewankim/Documents/Code/Personal/Funnel_CTCS/jl_Le16HODApc.mp4\n",
      "└ @ VisualiserExt /Users/taewankim/.julia/packages/MuJoCo/Ge60F/ext/VisualiserExt/functions.jl:204\n",
      "┌ Info: Recording video. Window resizing temporarily disabled\n",
      "└ @ VisualiserExt /Users/taewankim/.julia/packages/MuJoCo/Ge60F/ext/VisualiserExt/functions.jl:186\n",
      "┌ Info: Recording finished, window resizing re-enabled. Waiting for transcoding to finish.\n",
      "└ @ VisualiserExt /Users/taewankim/.julia/packages/MuJoCo/Ge60F/ext/VisualiserExt/functions.jl:200\n",
      "┌ Info: Finished recording! Video saved to /Users/taewankim/Documents/Code/Personal/Funnel_CTCS/jl_ZAhKpeVire.mp4\n",
      "└ @ VisualiserExt /Users/taewankim/.julia/packages/MuJoCo/Ge60F/ext/VisualiserExt/functions.jl:204\n"
     ]
    }
   ],
   "source": [
    "init_visualiser()\n",
    "visualise!(model, data, trajectories = [ctrl_trajectories[i] for i in 1:length(xs_list)])"
   ]
  },
  {
   "cell_type": "code",
   "execution_count": null,
   "metadata": {},
   "outputs": [],
   "source": [
    "reset!(model, data)\n",
    "\n",
    "# Propagate derived quantities\n",
    "mj_forward(model, data)\n",
    "# Set joint accelerations to 0\n",
    "data.qacc .= 0\n",
    "\n",
    "# Inspect forces from inverse dynamics\n",
    "mj_inverse(model, data)\n",
    "println(\"Required control: \", data.qfrc_inverse)"
   ]
  },
  {
   "cell_type": "code",
   "execution_count": null,
   "metadata": {},
   "outputs": [],
   "source": []
  }
 ],
 "metadata": {
  "kernelspec": {
   "display_name": "Julia 1.9.4",
   "language": "julia",
   "name": "julia-1.9"
  },
  "language_info": {
   "file_extension": ".jl",
   "mimetype": "application/julia",
   "name": "julia",
   "version": "1.9.4"
  }
 },
 "nbformat": 4,
 "nbformat_minor": 2
}
