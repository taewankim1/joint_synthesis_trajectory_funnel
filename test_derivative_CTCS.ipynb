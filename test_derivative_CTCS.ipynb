{
 "cells": [
  {
   "cell_type": "code",
   "execution_count": 39,
   "metadata": {},
   "outputs": [
    {
     "data": {
      "text/plain": [
       "impose! (generic function with 3 methods)"
      ]
     },
     "metadata": {},
     "output_type": "display_data"
    }
   ],
   "source": [
    "include(\"./trajopt/utils.jl\")\n",
    "include(\"./trajopt/dynamics.jl\")\n",
    "include(\"./funlopt/funl_dynamics.jl\")\n",
    "include(\"./funlopt/funl_ctcs.jl\")\n",
    "include(\"./funlopt/funl_utils.jl\")\n",
    "include(\"./funlopt/funl_constraint.jl\")"
   ]
  },
  {
   "cell_type": "code",
   "execution_count": 40,
   "metadata": {},
   "outputs": [],
   "source": [
    "# load nominal trajectory\n",
    "using JLD2, FileIO\n",
    "@load \"./data/unicycle_ICV_0408\" my_dict\n",
    "xnom = my_dict[\"x\"]\n",
    "unom = my_dict[\"u\"]\n",
    "tnom = my_dict[\"t\"]\n",
    "Qnom = my_dict[\"Q\"]\n",
    "Ynom = my_dict[\"Y\"]\n",
    "Znom = my_dict[\"Z\"]\n",
    "N = size(xnom,2) - 1\n",
    "dtnom = zeros(N)\n",
    "for i in 1:N\n",
    "    dtnom[i] = tnom[i+1]-tnom[i]\n",
    "end"
   ]
  },
  {
   "cell_type": "code",
   "execution_count": 41,
   "metadata": {},
   "outputs": [
    {
     "data": {
      "text/plain": [
       "9"
      ]
     },
     "metadata": {},
     "output_type": "display_data"
    }
   ],
   "source": [
    "ix = 3\n",
    "iu = 2\n",
    "iϕ = 2\n",
    "iv = 2\n",
    "iψ = iϕ*iv\n",
    "iμ = iψ\n",
    "@assert size(xnom,2) - 1 == N\n",
    "iq = ix^2"
   ]
  },
  {
   "cell_type": "code",
   "execution_count": 42,
   "metadata": {},
   "outputs": [
    {
     "data": {
      "text/plain": [
       "LinearDLMI(0.0, 3, 2, 9, 6, 0, [1 0 … 0 0; 0 0 … 0 0; … ; 0 0 … 0 0; 0 0 … 0 1], [1 0 … 0 0; 0 0 … 0 0; … ; 0 0 … 0 0; 0 0 … 0 1])"
      ]
     },
     "metadata": {},
     "output_type": "display_data"
    }
   ],
   "source": [
    "dynamics = Unicycle()\n",
    "ix = dynamics.ix\n",
    "iu = dynamics.iu\n",
    "alpha = 0.0\n",
    "dynamics.β .= [2.0,2.0]\n",
    "θ0 = 0.5\n",
    "# DLMI = LinearSOH(alpha,ix,iu)\n",
    "DLMI = LinearDLMI(alpha,ix,iu)"
   ]
  },
  {
   "cell_type": "code",
   "execution_count": 43,
   "metadata": {},
   "outputs": [
    {
     "data": {
      "text/plain": [
       "([0.0 0.0 -0.8563473835516268; 0.0 0.0 1.2805836524424632; 0.0 0.0 0.0], [0.831263029672674 0.0; 0.5558792814086592 0.0; 0.0 1.0])"
      ]
     },
     "metadata": {},
     "output_type": "display_data"
    }
   ],
   "source": [
    "ctcs = Invariance(1.0,1e-4,1.2,θ0,dynamics,DLMI)\n",
    "# ctcs = QPD(1.0,1e-4,1.2,dynamics,DLMI)\n",
    "# ctcs = BoundB(10.0,1e-4,1.2,θ0,dynamics,DLMI)\n",
    "idx = 4\n",
    "# Qtest = Qnom[:,:,idx]\n",
    "Qtest = 1*[1 0.1 0.2;0.1 2 0.3;0.2 0.3 -0.2]\n",
    "A,B = diff(dynamics,xnom[:,idx],unom[:,idx])"
   ]
  },
  {
   "cell_type": "code",
   "execution_count": 44,
   "metadata": {},
   "outputs": [
    {
     "data": {
      "text/plain": [
       "([0.0 0.0 … 0.0 -0.25534866235354947], [-0.24434609105505878 0.0 … 0.1352759815276272 0.0], [-0.178123348987258 -0.20781004386738466 … 0.11504873126400028 -0.054594821247144765], [0.17044900274543195;;])"
      ]
     },
     "metadata": {},
     "output_type": "display_data"
    }
   ],
   "source": [
    "Aq,Sy,Sz,Sb = diff(ctcs,vec(Qtest),vec(Ynom[:,:,idx]),vec(Znom[:,:,idx]),1.0,A,B)\n",
    "Fq,Fy,Fz,Fb = diff_numeric(ctcs,vec(Qtest),vec(Ynom[:,:,idx]),vec(Znom[:,:,idx]),1.0,A,B)"
   ]
  },
  {
   "cell_type": "code",
   "execution_count": 45,
   "metadata": {},
   "outputs": [
    {
     "data": {
      "text/plain": [
       "1×9 Matrix{Float64}:\n",
       " 0.0  0.0  0.461231  0.0  0.0  0.538101  0.0  0.0  -0.255349"
      ]
     },
     "metadata": {},
     "output_type": "display_data"
    }
   ],
   "source": [
    "Aq"
   ]
  },
  {
   "cell_type": "code",
   "execution_count": 46,
   "metadata": {},
   "outputs": [
    {
     "data": {
      "text/plain": [
       "1×9 Matrix{Float64}:\n",
       " 0.0  0.0  0.461231  0.0  0.0  0.538101  0.0  0.0  -0.255349"
      ]
     },
     "metadata": {},
     "output_type": "display_data"
    }
   ],
   "source": [
    "Fq"
   ]
  },
  {
   "cell_type": "code",
   "execution_count": 47,
   "metadata": {},
   "outputs": [
    {
     "data": {
      "text/plain": [
       "5.3260285071132785e-11"
      ]
     },
     "metadata": {},
     "output_type": "display_data"
    }
   ],
   "source": [
    "sum(abs.(Aq - Fq))"
   ]
  },
  {
   "cell_type": "code",
   "execution_count": 48,
   "metadata": {},
   "outputs": [
    {
     "data": {
      "text/plain": [
       "2.4363441819552634e-10"
      ]
     },
     "metadata": {},
     "output_type": "display_data"
    }
   ],
   "source": [
    "sum(abs.(Sy - Fy))"
   ]
  },
  {
   "cell_type": "code",
   "execution_count": 49,
   "metadata": {},
   "outputs": [
    {
     "data": {
      "text/plain": [
       "1.3992682776353682e-9"
      ]
     },
     "metadata": {},
     "output_type": "display_data"
    }
   ],
   "source": [
    "sum(abs.(Sz - Fz))"
   ]
  },
  {
   "cell_type": "code",
   "execution_count": 50,
   "metadata": {},
   "outputs": [
    {
     "data": {
      "text/plain": [
       "2.7507718325381347e-11"
      ]
     },
     "metadata": {},
     "output_type": "display_data"
    }
   ],
   "source": [
    "sum(abs.(Sb - Fb))"
   ]
  },
  {
   "cell_type": "code",
   "execution_count": 52,
   "metadata": {},
   "outputs": [
    {
     "ename": "AssertionError",
     "evalue": "AssertionError: typeof(funl_dynamics) == LinearDLMI",
     "output_type": "error",
     "traceback": [
      "AssertionError: typeof(funl_dynamics) == LinearDLMI\n",
      "\n",
      "Stacktrace:\n",
      " [1] QPD(M::Int64, epsilon::Float64, alpha::Float64, dynamics::Int64, funl_dynamics::Int64)\n",
      "   @ Main ~/Documents/Code/Personal/Funnel_CTCS/funlopt/funl_ctcs.jl:547\n",
      " [2] top-level scope\n",
      "   @ ~/Documents/Code/Personal/Funnel_CTCS/test_derivative_CTCS.ipynb:1"
     ]
    }
   ],
   "source": [
    "ctcs = QPD(1,1e3,1e-6,ix,iu)\n",
    "dynamics = Unicycle()\n",
    "alpha = 0.7\n",
    "funl_dynamics = LinearDLMI(alpha,ix,iu)"
   ]
  },
  {
   "cell_type": "code",
   "execution_count": 53,
   "metadata": {},
   "outputs": [
    {
     "ename": "UndefVarError",
     "evalue": "UndefVarError: `funl_dynamics` not defined",
     "output_type": "error",
     "traceback": [
      "UndefVarError: `funl_dynamics` not defined\n",
      "\n",
      "Stacktrace:\n",
      " [1] top-level scope\n",
      "   @ ~/Documents/Code/Personal/Funnel_CTCS/test_derivative_CTCS.ipynb:1"
     ]
    }
   ],
   "source": [
    "(\n",
    "    Aq,Bm,Bp,Sm,Sp\n",
    ") = discretize_foh(funl_dynamics,\n",
    "    dynamics,xnom[:,1:N],unom,dtnom,Qnom[:,:,1:N],Ynom,Znom)"
   ]
  },
  {
   "cell_type": "code",
   "execution_count": 54,
   "metadata": {},
   "outputs": [],
   "source": [
    "include(\"./funlopt/funl_ctcs.jl\")"
   ]
  },
  {
   "cell_type": "code",
   "execution_count": 55,
   "metadata": {},
   "outputs": [
    {
     "ename": "UndefVarError",
     "evalue": "UndefVarError: `funl_dynamics` not defined",
     "output_type": "error",
     "traceback": [
      "UndefVarError: `funl_dynamics` not defined\n",
      "\n",
      "Stacktrace:\n",
      " [1] top-level scope\n",
      "   @ ~/Documents/Code/Personal/Funnel_CTCS/test_derivative_CTCS.ipynb:1"
     ]
    }
   ],
   "source": [
    "(\n",
    "    Aq_,Bym,Byp,Bzm,Bzp,Sq,Sym,Syp,Szm,Szp,SZ,x_prop,q_prop,s_prop\n",
    ") = discretize_foh(funl_dynamics,dynamics,ctcs,\n",
    "xnom[:,1:N],unom,dtnom,Qnom[:,:,1:N],Ynom,Znom)"
   ]
  },
  {
   "cell_type": "code",
   "execution_count": 56,
   "metadata": {},
   "outputs": [
    {
     "ename": "UndefVarError",
     "evalue": "UndefVarError: `Aq_` not defined",
     "output_type": "error",
     "traceback": [
      "UndefVarError: `Aq_` not defined\n",
      "\n",
      "Stacktrace:\n",
      " [1] top-level scope\n",
      "   @ ~/Documents/Code/Personal/Funnel_CTCS/test_derivative_CTCS.ipynb:4"
     ]
    }
   ],
   "source": [
    "function get_error(A,B)\n",
    "    return sum(abs.(A-B))\n",
    "end\n",
    "println(get_error(Aq,Aq_))\n",
    "println(get_error(Bm,Bym))\n",
    "println(get_error(Bp,Byp))\n",
    "println(get_error(Sm,Bzm))\n",
    "println(get_error(Sp,Bzp))\n",
    "println(get_error(Sp,Bzp))"
   ]
  },
  {
   "cell_type": "code",
   "execution_count": 57,
   "metadata": {},
   "outputs": [
    {
     "ename": "UndefVarError",
     "evalue": "UndefVarError: `SZ` not defined",
     "output_type": "error",
     "traceback": [
      "UndefVarError: `SZ` not defined\n"
     ]
    }
   ],
   "source": [
    "SZ"
   ]
  },
  {
   "cell_type": "code",
   "execution_count": 58,
   "metadata": {},
   "outputs": [],
   "source": []
  }
 ],
 "metadata": {
  "kernelspec": {
   "display_name": "Julia 1.9.4",
   "language": "julia",
   "name": "julia-1.9"
  },
  "language_info": {
   "file_extension": ".jl",
   "mimetype": "application/julia",
   "name": "julia",
   "version": "1.9.4"
  }
 },
 "nbformat": 4,
 "nbformat_minor": 2
}
