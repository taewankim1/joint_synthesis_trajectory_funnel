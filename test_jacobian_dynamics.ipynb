{
 "cells": [
  {
   "cell_type": "code",
   "execution_count": 1,
   "metadata": {},
   "outputs": [
    {
     "data": {
      "text/plain": [
       "forward (generic function with 4 methods)"
      ]
     },
     "metadata": {},
     "output_type": "display_data"
    }
   ],
   "source": [
    "include(\"./trajopt/utils.jl\")\n",
    "include(\"./trajopt/dynamics.jl\")"
   ]
  },
  {
   "cell_type": "code",
   "execution_count": 2,
   "metadata": {},
   "outputs": [],
   "source": [
    "# load nominal trajectory\n",
    "using JLD2, FileIO\n",
    "@load \"./data/nominal_traj_mani_0708\" my_dict\n",
    "xnom = my_dict[\"x\"]\n",
    "unom = my_dict[\"u\"]\n",
    "tnom = my_dict[\"t\"]\n",
    "N = size(xnom,2) - 1\n",
    "dtnom = zeros(N)\n",
    "for i in 1:N\n",
    "    dtnom[i] = tnom[i+1]-tnom[i]\n",
    "end"
   ]
  },
  {
   "cell_type": "code",
   "execution_count": 3,
   "metadata": {},
   "outputs": [
    {
     "data": {
      "text/plain": [
       "2"
      ]
     },
     "metadata": {},
     "output_type": "display_data"
    }
   ],
   "source": [
    "ix = 3\n",
    "iu = 2"
   ]
  },
  {
   "cell_type": "code",
   "execution_count": 5,
   "metadata": {},
   "outputs": [
    {
     "data": {
      "text/plain": [
       "ThreeDOFManipulatorDynamics(6, 3, 3, 3, 3, 3, [1.0 0.0 … 0.0 0.0; 0.0 1.0 … 0.0 0.0; … ; 0.0 0.0 … 1.0 0.0; 0.0 0.0 … 0.0 1.0], [1.0 0.0 0.0; 0.0 1.0 0.0; 0.0 0.0 1.0], [0 0 0; 0 0 0; … ; 0 1 0; 0 0 1], [1.0 0.0 … 0.0 0.0; 0.0 1.0 … 0.0 0.0; … ; 0.0 0.0 … 1.0 0.0; 0.0 0.0 … 0.0 1.0], [1.0 0.0 0.0; 0.0 1.0 0.0; 0.0 0.0 1.0], [0.0, 0.0, 0.0], 1.0, 1.0, 1.0, 1.0, 1.0, 1.0, 0.5, 0.5, 0.5, 0.08333333333333333, 0.08333333333333333, 0.08333333333333333, 9.81)"
      ]
     },
     "metadata": {},
     "output_type": "display_data"
    }
   ],
   "source": [
    "dynamics = ThreeDOFManipulatorDynamics(9.81)"
   ]
  },
  {
   "cell_type": "code",
   "execution_count": 6,
   "metadata": {},
   "outputs": [
    {
     "data": {
      "text/plain": [
       "diff_numeric_central (generic function with 1 method)"
      ]
     },
     "metadata": {},
     "output_type": "display_data"
    }
   ],
   "source": [
    "function diff_numeric_central(model::Dynamics,x::Vector,u::Vector)\n",
    "    ix = length(x)\n",
    "    iu = length(u)\n",
    "    eps_x = Diagonal{Float64}(I, ix)\n",
    "    eps_u = Diagonal{Float64}(I, iu)\n",
    "    fx = zeros(ix,ix)\n",
    "    fu = zeros(ix,iu)\n",
    "    h = 2^(-18)\n",
    "    for i in 1:ix\n",
    "        fx[:,i] = (forward(model,x+h*eps_x[:,i],u) - forward(model,x-h*eps_x[:,i],u)) / (2*h)\n",
    "    end\n",
    "    for i in 1:iu\n",
    "        fu[:,i] = (forward(model,x,u+h*eps_u[:,i]) - forward(model,x,u-h*eps_u[:,i])) / (2*h)\n",
    "    end\n",
    "    return fx,fu\n",
    "end"
   ]
  },
  {
   "cell_type": "code",
   "execution_count": 7,
   "metadata": {},
   "outputs": [
    {
     "data": {
      "text/plain": [
       "([0.0 0.0 … 0.0 0.0; 0.0 0.0 … 1.0 0.0; … ; 12.474429758731276 9.545594508759677 … -4.136306210886687 -3.5286398231983185; -0.030982352793216705 11.05107393860817 … 6.7340164091438055 2.9852327425032854], [0.0 0.0 0.0; 0.0 0.0 0.0; … ; -0.4374258127063513 1.1089709997177124 0.4157871715724468; -1.1470838002860546 0.4157871715724468 4.970869882032275])"
      ]
     },
     "metadata": {},
     "output_type": "display_data"
    }
   ],
   "source": [
    "idx = 4\n",
    "A,B = diff(dynamics,xnom[:,idx],unom[:,idx])\n",
    "A_,B_ = diff_numeric_central(dynamics,xnom[:,idx],unom[:,idx])"
   ]
  },
  {
   "cell_type": "code",
   "execution_count": 8,
   "metadata": {},
   "outputs": [
    {
     "data": {
      "text/plain": [
       "1.3456373348930128e-8"
      ]
     },
     "metadata": {},
     "output_type": "display_data"
    }
   ],
   "source": [
    "sum(abs.(A - A_))"
   ]
  },
  {
   "cell_type": "code",
   "execution_count": 9,
   "metadata": {},
   "outputs": [
    {
     "data": {
      "text/plain": [
       "3.9234087090278535e-9"
      ]
     },
     "metadata": {},
     "output_type": "display_data"
    }
   ],
   "source": [
    "sum(abs.(B - B_))"
   ]
  },
  {
   "cell_type": "code",
   "execution_count": null,
   "metadata": {},
   "outputs": [],
   "source": [
    "sum(abs.(Sb - Fb))"
   ]
  },
  {
   "cell_type": "code",
   "execution_count": 10,
   "metadata": {},
   "outputs": [
    {
     "data": {
      "text/plain": [
       "176.54024501142624"
      ]
     },
     "metadata": {},
     "output_type": "display_data"
    }
   ],
   "source": [
    "sum(abs.(A))"
   ]
  },
  {
   "cell_type": "code",
   "execution_count": 11,
   "metadata": {},
   "outputs": [
    {
     "data": {
      "text/plain": [
       "10.78545700498374"
      ]
     },
     "metadata": {},
     "output_type": "display_data"
    }
   ],
   "source": [
    "sum(abs.(B))"
   ]
  },
  {
   "cell_type": "code",
   "execution_count": null,
   "metadata": {},
   "outputs": [],
   "source": []
  }
 ],
 "metadata": {
  "kernelspec": {
   "display_name": "Julia 1.9.4",
   "language": "julia",
   "name": "julia-1.9"
  },
  "language_info": {
   "file_extension": ".jl",
   "mimetype": "application/julia",
   "name": "julia",
   "version": "1.9.4"
  }
 },
 "nbformat": 4,
 "nbformat_minor": 2
}
