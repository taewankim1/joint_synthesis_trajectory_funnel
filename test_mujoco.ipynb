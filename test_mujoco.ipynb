{
 "cells": [
  {
   "cell_type": "code",
   "execution_count": 37,
   "metadata": {},
   "outputs": [],
   "source": [
    "using MuJoCo\n",
    "using Plots"
   ]
  },
  {
   "cell_type": "code",
   "execution_count": 38,
   "metadata": {},
   "outputs": [
    {
     "name": "stdout",
     "output_type": "stream",
     "text": [
      "(typeof(model), typeof(data)) = (Model, Data)\n"
     ]
    },
    {
     "data": {
      "text/plain": [
       "(Model, Data)"
      ]
     },
     "metadata": {},
     "output_type": "display_data"
    }
   ],
   "source": [
    "model, data = MuJoCo.sample_model_and_data()\n",
    "@show typeof(model), typeof(data)"
   ]
  },
  {
   "cell_type": "code",
   "execution_count": 39,
   "metadata": {},
   "outputs": [
    {
     "name": "stdout",
     "output_type": "stream",
     "text": [
      "Simulation timestep: 0.005\n",
      "Positions of joints: [0.0; 0.0; 1.282; 1.0; 0.0; 0.0; 0.0; 0.0; 0.0; 0.0; 0.0; 0.0; 0.0; 0.0; 0.0; 0.0; 0.0; 0.0; 0.0; 0.0; 0.0; 0.0; 0.0; 0.0; 0.0; 0.0; 0.0; 0.0;;]\n"
     ]
    }
   ],
   "source": [
    "println(\"Simulation timestep: \", model.opt.timestep)\n",
    "println(\"Positions of joints: \", data.qpos)"
   ]
  },
  {
   "cell_type": "code",
   "execution_count": 40,
   "metadata": {},
   "outputs": [
    {
     "data": {
      "text/plain": [
       "random_controller! (generic function with 1 method)"
      ]
     },
     "metadata": {},
     "output_type": "display_data"
    }
   ],
   "source": [
    "function random_controller!(m::Model, d::Data)\n",
    "    nu = m.nu\n",
    "    d.ctrl .= 2*rand(nu) .- 1\n",
    "    return nothing\n",
    "end"
   ]
  },
  {
   "cell_type": "code",
   "execution_count": 41,
   "metadata": {},
   "outputs": [],
   "source": [
    "for t in 1:100\n",
    "    random_controller!(model, data)\n",
    "    step!(model, data)\n",
    "end"
   ]
  },
  {
   "cell_type": "code",
   "execution_count": 42,
   "metadata": {},
   "outputs": [
    {
     "name": "stdout",
     "output_type": "stream",
     "text": [
      "New joint positions: [-0.059968101431405005; -0.0325365879979836; 0.8176063539281039; 0.9876909998179103; 0.09066244730259082; -0.11955405104210155; -0.04419998198216789; 0.22261756702101268; -0.45413209243553543; -0.07515324648968187; -0.2830706820676842; -0.10001722213732842; 0.37796926675783893; -2.456008756780643; -0.6924316802685542; 0.19972648999610412; 0.11435194959168131; -0.1779221580285157; 0.03987265181507663; -2.388985882845125; -0.2814004724543829; -0.6500364690762889; 0.5050604824824727; -0.2759845265097538; -1.604528413430005; 0.0959799433922228; -1.400309521755049; 0.5427967061086939;;]\n"
     ]
    }
   ],
   "source": [
    "println(\"New joint positions: \", data.qpos)"
   ]
  },
  {
   "cell_type": "code",
   "execution_count": 43,
   "metadata": {},
   "outputs": [
    {
     "name": "stdout",
     "output_type": "stream",
     "text": [
      "Reset joint positions: [0.0; 0.0; 1.282; 1.0; 0.0; 0.0; 0.0; 0.0; 0.0; 0.0; 0.0; 0.0; 0.0; 0.0; 0.0; 0.0; 0.0; 0.0; 0.0; 0.0; 0.0; 0.0; 0.0; 0.0; 0.0; 0.0; 0.0; 0.0;;]\n"
     ]
    }
   ],
   "source": [
    "mj_resetData(model, data)\n",
    "println(\"Reset joint positions: \", data.qpos)"
   ]
  },
  {
   "cell_type": "code",
   "execution_count": null,
   "metadata": {},
   "outputs": [],
   "source": [
    "init_visualiser()\n",
    "visualise!(model, data, controller=random_controller!)"
   ]
  },
  {
   "cell_type": "code",
   "execution_count": 44,
   "metadata": {},
   "outputs": [],
   "source": [
    "reset!(model, data)\n",
    "data.qpos[3] = 2\n",
    "forward!(model, data) # Propagate the physics forward"
   ]
  },
  {
   "cell_type": "code",
   "execution_count": 45,
   "metadata": {},
   "outputs": [],
   "source": [
    "tmax = 400\n",
    "nx = model.nq + model.nv + model.na # State vector dimension\n",
    "states = zeros(nx, tmax)\n",
    "for t in 1:tmax\n",
    "    states[:,t] = get_physics_state(model, data)\n",
    "    step!(model, data)\n",
    "end"
   ]
  },
  {
   "cell_type": "code",
   "execution_count": 48,
   "metadata": {},
   "outputs": [
    {
     "data": {
      "text/plain": [
       "Matrix{Float64}\u001b[90m (alias for \u001b[39m\u001b[90mArray{Float64, 2}\u001b[39m\u001b[90m)\u001b[39m"
      ]
     },
     "metadata": {},
     "output_type": "display_data"
    }
   ],
   "source": [
    "typeof(states)"
   ]
  },
  {
   "cell_type": "code",
   "execution_count": 47,
   "metadata": {},
   "outputs": [
    {
     "name": "stdout",
     "output_type": "stream",
     "text": [
      " __  __            _        _____       _ _ \n",
      "|  \\/  |          | |      / ____|     (_) |\n",
      "| \\  / |_   _     | | ___ | |     ___   _| |\n",
      "| |\\/| | | | |_   | |/ _ \\| |    / _ \\ | | |\n",
      "| |  | | |_| | |__| | (_) | |___| (_) || | |\n",
      "|_|  |_|\\__,_|\\____/ \\___/ \\_____\\___(_) |_|\n",
      "                                      _/ |  \n",
      "                                     |__/   \n",
      "\n",
      "Press \"F1\" to show the help message.\n"
     ]
    }
   ],
   "source": [
    "visualise!(model, data, trajectories = states)"
   ]
  },
  {
   "cell_type": "code",
   "execution_count": null,
   "metadata": {},
   "outputs": [],
   "source": [
    "reset!(model, data)\n",
    "ctrl_states = zeros(nx, tmax)\n",
    "for t in 1:tmax\n",
    "    ctrl_states[:,t] = get_physics_state(model, data)\n",
    "    random_controller!(model, data)\n",
    "    step!(model, data)\n",
    "end"
   ]
  },
  {
   "cell_type": "code",
   "execution_count": 46,
   "metadata": {},
   "outputs": [
    {
     "ename": "UndefVarError",
     "evalue": "UndefVarError: `ctrl_states` not defined",
     "output_type": "error",
     "traceback": [
      "UndefVarError: `ctrl_states` not defined\n",
      "\n",
      "Stacktrace:\n",
      " [1] top-level scope\n",
      "   @ ~/Documents/Code/Personal/Funnel_CTCS/test_mujoco.ipynb:1"
     ]
    }
   ],
   "source": [
    "visualise!(model, data, trajectories = [states, ctrl_states])"
   ]
  },
  {
   "cell_type": "code",
   "execution_count": null,
   "metadata": {},
   "outputs": [],
   "source": [
    "model = load_model(joinpath(example_model_files_directory(), \"humanoid\", \"humanoid.xml\"))\n",
    "data = init_data(model)"
   ]
  },
  {
   "cell_type": "code",
   "execution_count": null,
   "metadata": {},
   "outputs": [],
   "source": [
    "init_visualiser()\n",
    "\n",
    "for i in 1:3\n",
    "    resetkey!(model, data, i)\n",
    "    visualise!(model, data)\n",
    "end"
   ]
  },
  {
   "cell_type": "code",
   "execution_count": null,
   "metadata": {},
   "outputs": [],
   "source": [
    "# Reset to desired keyframe\n",
    "keyframe = 2\n",
    "resetkey!(model, data, keyframe)\n",
    "\n",
    "# Propagate derived quantities\n",
    "mj_forward(model, data)\n",
    "# Set joint accelerations to 0\n",
    "data.qacc .= 0\n",
    "\n",
    "# Inspect forces from inverse dynamics\n",
    "mj_inverse(model, data)\n",
    "println(\"Required control: \", data.qfrc_inverse)"
   ]
  },
  {
   "cell_type": "code",
   "execution_count": null,
   "metadata": {},
   "outputs": [],
   "source": [
    "# using CairoMakie\n",
    "using LinearAlgebra\n",
    "\n",
    "heights = LinRange(-0.001, 0.001, 2001) # -1mm to +1mm\n",
    "# Map each height to the corresponding high force output\n",
    "u_vert = map(heights) do h\n",
    "    # Set model in position with qacc == 0\n",
    "    resetkey!(model, data, keyframe)\n",
    "    mj_forward(model, data)\n",
    "    data.qacc .= 0\n",
    "\n",
    "    # Offset the height and check required vertical forces\n",
    "    data.qpos[3] += h\n",
    "    mj_inverse(model, data)\n",
    "    return data.qfrc_inverse[3] # 3 -> z-force\n",
    "end\n",
    "\n",
    "# Find height corresponding to minimum fictitious force (best offset)\n",
    "height = heights[argmin(abs.(u_vert))]\n",
    "height_mm = height*1000\n",
    "heights_mm = heights .* 1000\n",
    "\n",
    "# Compare force to weight of humanoid\n",
    "weight = sum(model.body_mass) * norm(model.opt.gravity)"
   ]
  },
  {
   "cell_type": "code",
   "execution_count": null,
   "metadata": {},
   "outputs": [],
   "source": [
    "plot(heights_mm, u_vert,label=\"Vertical force\",size=(500,300))\n",
    "plot!(heights_mm, weight*ones(length(heights)), linestyle=:dash, label=\"Weight\")\n",
    "plot!([height_mm, height_mm], [minimum(u_vert), maximum(u_vert)], linestyle=:dash)\n",
    "xlabel!(\"Vetical offset (mm)\")\n",
    "ylabel!(\"Vertical force (N)\")"
   ]
  },
  {
   "cell_type": "code",
   "execution_count": null,
   "metadata": {},
   "outputs": [],
   "source": [
    "resetkey!(model, data, keyframe)\n",
    "mj_forward(model, data)\n",
    "data.qacc .= 0\n",
    "data.qpos[3] += height\n",
    "qpos0 = copy(data.qpos)\n",
    "println(qpos0)"
   ]
  },
  {
   "cell_type": "code",
   "execution_count": null,
   "metadata": {},
   "outputs": [],
   "source": [
    "mj_inverse(model, data)\n",
    "qfrc0 = copy(data.qfrc_inverse)\n",
    "\n",
    "M_act = data.actuator_moment\n",
    "ctrl0 = pinv(M_act)' * qfrc0\n",
    "println(ctrl0)"
   ]
  },
  {
   "cell_type": "code",
   "execution_count": null,
   "metadata": {},
   "outputs": [],
   "source": [
    "data.ctrl .= ctrl0\n",
    "mj_forward(model, data)\n",
    "qfrc_test = data.qfrc_actuator\n",
    "println(\"Desired forces: \", qfrc0)\n",
    "println(\"Actual forces:  \", qfrc_test)\n",
    "println(\"Joint forces equal? \", all((qfrc_test .≈ qfrc0)[7:end]))"
   ]
  },
  {
   "cell_type": "code",
   "execution_count": null,
   "metadata": {},
   "outputs": [],
   "source": [
    "reset!(model, data)\n",
    "data.qpos .= qpos0\n",
    "data.ctrl .= ctrl0\n",
    "visualise!(model, data)"
   ]
  },
  {
   "cell_type": "code",
   "execution_count": null,
   "metadata": {},
   "outputs": [],
   "source": [
    "nu = model.nu # number of actuators/controls\n",
    "nv = model.nv # number of degrees of freedom\n",
    "R = Matrix{Float64}(I, nu, nu);"
   ]
  },
  {
   "cell_type": "code",
   "execution_count": null,
   "metadata": {},
   "outputs": [],
   "source": [
    "import MuJoCo as MJ\n",
    "\n",
    "torso = MJ.body(model, \"torso\")\n",
    "left_foot = MJ.body(model, \"foot_left\")"
   ]
  },
  {
   "cell_type": "code",
   "execution_count": null,
   "metadata": {},
   "outputs": [],
   "source": [
    "# Get Jacobian for torso CoM\n",
    "reset!(model, data)\n",
    "data.qpos .= qpos0\n",
    "forward!(model, data)\n",
    "jac_com = mj_zeros(3, nv)\n",
    "mj_jacSubtreeCom(model, data, jac_com, torso.id)\n",
    "\n",
    "# Get (left) foot Jacobian for balancing\n",
    "jac_foot = mj_zeros(3, nv)\n",
    "mj_jacBodyCom(model, data, jac_foot, nothing, left_foot.id)\n",
    "\n",
    "# Design Q-matrix to balance CoM over foot\n",
    "jac_diff = jac_com .- jac_foot\n",
    "Qbalance = jac_diff' * jac_diff"
   ]
  },
  {
   "cell_type": "markdown",
   "metadata": {},
   "source": [
    "# A cart-pole"
   ]
  },
  {
   "cell_type": "code",
   "execution_count": 28,
   "metadata": {},
   "outputs": [
    {
     "name": "stdout",
     "output_type": "stream",
     "text": [
      "Initial position: [0.0; 0.0;;]\n",
      "Initial velocity: [0.0; 0.0;;]\n"
     ]
    }
   ],
   "source": [
    "model = load_model(\"./xmls/cartpole.xml\")\n",
    "data = init_data(model)\n",
    "\n",
    "println(\"Initial position: \", data.qpos)\n",
    "println(\"Initial velocity: \", data.qvel)"
   ]
  },
  {
   "cell_type": "code",
   "execution_count": 29,
   "metadata": {},
   "outputs": [
    {
     "name": "stdout",
     "output_type": "stream",
     "text": [
      "(A, B) = ([1.0 -0.00020933539434596422 0.00999696728367769 7.112993351890879e-6; 0.0 1.0027918363759287 7.112993351890878e-6 0.009905136378663615; 0.0 -0.020933539434596422 0.9996967283677689 0.000711299335189088; 0.0 0.2791836375928739 0.0007112993351890878 0.9905136378663615], [0.0030327163223112376; -0.007112993351890878; 0.30327163223112374; -0.7112993351890878;;])\n"
     ]
    },
    {
     "data": {
      "text/plain": [
       "([1.0 -0.00020933539434596422 0.00999696728367769 7.112993351890879e-6; 0.0 1.0027918363759287 7.112993351890878e-6 0.009905136378663615; 0.0 -0.020933539434596422 0.9996967283677689 0.000711299335189088; 0.0 0.2791836375928739 0.0007112993351890878 0.9905136378663615], [0.0030327163223112376; -0.007112993351890878; 0.30327163223112374; -0.7112993351890878;;])"
      ]
     },
     "metadata": {},
     "output_type": "display_data"
    }
   ],
   "source": [
    "# Number of states and controlled inputs\n",
    "nx = 2*model.nv\n",
    "nu = model.nu\n",
    "\n",
    "# Finite-difference parameters\n",
    "ϵ = 1e-6\n",
    "centred = true\n",
    "\n",
    "# Compute the Jacobians\n",
    "A = mj_zeros(nx, nx)\n",
    "B = mj_zeros(nx, nu)\n",
    "mjd_transitionFD(model, data, ϵ, centred, A, B, nothing, nothing)\n",
    "@show A, B"
   ]
  },
  {
   "cell_type": "code",
   "execution_count": 30,
   "metadata": {},
   "outputs": [
    {
     "data": {
      "text/plain": [
       "1×1 Matrix{Int64}:\n",
       " 1"
      ]
     },
     "metadata": {},
     "output_type": "display_data"
    }
   ],
   "source": [
    "Q = diagm([1, 10, 1, 5]) # Weights for the state vector\n",
    "R = diagm([1])           # Weights for the controls"
   ]
  },
  {
   "cell_type": "code",
   "execution_count": 32,
   "metadata": {},
   "outputs": [
    {
     "name": "stdout",
     "output_type": "stream",
     "text": [
      "K = [-0.46741668449533486 -5.5927150414501625 -0.8436677105851593 -1.4448668569004217]\n"
     ]
    },
    {
     "data": {
      "text/plain": [
       "1×4 Matrix{Float64}:\n",
       " -0.467417  -5.59272  -0.843668  -1.44487"
      ]
     },
     "metadata": {},
     "output_type": "display_data"
    }
   ],
   "source": [
    "using MatrixEquations\n",
    "\n",
    "S = zeros(nx, nu)\n",
    "_, _, K, _ = ared(A,B,R,Q,S)\n",
    "@show K"
   ]
  },
  {
   "cell_type": "code",
   "execution_count": 33,
   "metadata": {},
   "outputs": [
    {
     "data": {
      "text/plain": [
       "lqr_balance! (generic function with 1 method)"
      ]
     },
     "metadata": {},
     "output_type": "display_data"
    }
   ],
   "source": [
    "function lqr_balance!(m::Model, d::Data)\n",
    "    state = vcat(d.qpos, d.qvel)\n",
    "    d.ctrl .= -K * state\n",
    "    nothing\n",
    "end"
   ]
  },
  {
   "cell_type": "code",
   "execution_count": 36,
   "metadata": {},
   "outputs": [
    {
     "name": "stdout",
     "output_type": "stream",
     "text": [
      " __  __            _        _____       _ _ \n",
      "|  \\/  |          | |      / ____|     (_) |\n",
      "| \\  / |_   _     | | ___ | |     ___   _| |\n",
      "| |\\/| | | | |_   | |/ _ \\| |    / _ \\ | | |\n",
      "| |  | | |_| | |__| | (_) | |___| (_) || | |\n",
      "|_|  |_|\\__,_|\\____/ \\___/ \\_____\\___(_) |_|\n",
      "                                      _/ |  \n",
      "                                     |__/   \n",
      "\n",
      "Press \"F1\" to show the help message.\n"
     ]
    }
   ],
   "source": [
    "init_visualiser()\n",
    "visualise!(model, data; controller=lqr_balance!)"
   ]
  },
  {
   "cell_type": "code",
   "execution_count": null,
   "metadata": {},
   "outputs": [],
   "source": []
  }
 ],
 "metadata": {
  "kernelspec": {
   "display_name": "Julia 1.9.4",
   "language": "julia",
   "name": "julia-1.9"
  },
  "language_info": {
   "file_extension": ".jl",
   "mimetype": "application/julia",
   "name": "julia",
   "version": "1.9.4"
  }
 },
 "nbformat": 4,
 "nbformat_minor": 2
}
